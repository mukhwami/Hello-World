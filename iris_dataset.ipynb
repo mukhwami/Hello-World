{
  "nbformat": 4,
  "nbformat_minor": 0,
  "metadata": {
    "colab": {
      "name": "iris-dataset.ipynb",
      "version": "0.3.2",
      "provenance": [],
      "include_colab_link": true
    },
    "kernelspec": {
      "display_name": "Python 3",
      "language": "python",
      "name": "python3"
    }
  },
  "cells": [
    {
      "cell_type": "markdown",
      "metadata": {
        "id": "view-in-github",
        "colab_type": "text"
      },
      "source": [
        "<a href=\"https://colab.research.google.com/github/mukhwami/Hello-World/blob/master/iris_dataset.ipynb\" target=\"_parent\"><img src=\"https://colab.research.google.com/assets/colab-badge.svg\" alt=\"Open In Colab\"/></a>"
      ]
    },
    {
      "metadata": {
        "id": "ZMdh_TJ85DDD",
        "colab_type": "text"
      },
      "cell_type": "markdown",
      "source": [
        "## Coding a decision tree\n",
        "We will use the scikit-learn library to build the decision tree model. We will be using the iris dataset to build a decision tree classifier. The data set contains information of 3 classes of the iris plant with the following attributes: - sepal length - sepal width - petal length - petal width - class: Iris Setosa, Iris Versicolour, Iris Virginica\n",
        "\n",
        "The task is to predict the class of the iris plant based on the attributes."
      ]
    },
    {
      "metadata": {
        "id": "-ZlJlhzk5DDH",
        "colab_type": "code",
        "colab": {}
      },
      "cell_type": "code",
      "source": [
        "import pandas as pd\n",
        "import numpy as np\n",
        "from sklearn.datasets import load_iris\n",
        "from sklearn.tree import DecisionTreeClassifier\n",
        "from sklearn.model_selection import train_test_split"
      ],
      "execution_count": 0,
      "outputs": []
    },
    {
      "metadata": {
        "id": "q4rpqDoa5DDP",
        "colab_type": "text"
      },
      "cell_type": "markdown",
      "source": [
        "The scikit-learn dataset library already has the iris dataset. You can either use the dataset from the source or import it from the scikit-learn dataset library."
      ]
    },
    {
      "metadata": {
        "id": "w10Nw67T5DDR",
        "colab_type": "code",
        "colab": {
          "base_uri": "https://localhost:8080/",
          "height": 34
        },
        "outputId": "098dc7e0-96a4-4274-b8eb-2d16156075bd"
      },
      "cell_type": "code",
      "source": [
        "data = load_iris()\n",
        "print(\"classes to predict: \", data.target_names)"
      ],
      "execution_count": 3,
      "outputs": [
        {
          "output_type": "stream",
          "text": [
            "classes to predict:  ['setosa' 'versicolor' 'virginica']\n"
          ],
          "name": "stdout"
        }
      ]
    },
    {
      "metadata": {
        "id": "daPoiF1q5DDa",
        "colab_type": "text"
      },
      "cell_type": "markdown",
      "source": [
        "There are three classes of iris plants: 'setosa', 'versicolor' and 'virginica'. Now, we have imported the iris data in the variable 'data'. We will now extract the attribute data and the corresponding labels. We can extract the attributes and labels by calling .data and .target as shown below:"
      ]
    },
    {
      "metadata": {
        "id": "hhVKGwpC5DDc",
        "colab_type": "code",
        "colab": {
          "base_uri": "https://localhost:8080/",
          "height": 34
        },
        "outputId": "9c12d17d-d1e2-44e9-bbf4-4433d461ece8"
      },
      "cell_type": "code",
      "source": [
        "#extracting data attributes\n",
        "X = data.data\n",
        "#extracting target/ class labels\n",
        "y = data.target\n",
        "\n",
        "X.shape"
      ],
      "execution_count": 4,
      "outputs": [
        {
          "output_type": "execute_result",
          "data": {
            "text/plain": [
              "(150, 4)"
            ]
          },
          "metadata": {
            "tags": []
          },
          "execution_count": 4
        }
      ]
    },
    {
      "metadata": {
        "id": "vSTZJ1025DDl",
        "colab_type": "text"
      },
      "cell_type": "markdown",
      "source": [
        "There are 150 examples/ samples in the data. The variable 'X' contains the attributes to the iris plant. The cell below shows the 4 attributes of the first four iris plants."
      ]
    },
    {
      "metadata": {
        "id": "HAghdkTF5DDm",
        "colab_type": "code",
        "colab": {
          "base_uri": "https://localhost:8080/",
          "height": 85
        },
        "outputId": "9ba91f37-8423-43ef-d484-6a030ed4c23d"
      },
      "cell_type": "code",
      "source": [
        "#first four rows in the variablle X\n",
        "\n",
        "X[:4]"
      ],
      "execution_count": 5,
      "outputs": [
        {
          "output_type": "execute_result",
          "data": {
            "text/plain": [
              "array([[5.1, 3.5, 1.4, 0.2],\n",
              "       [4.9, 3. , 1.4, 0.2],\n",
              "       [4.7, 3.2, 1.3, 0.2],\n",
              "       [4.6, 3.1, 1.5, 0.2]])"
            ]
          },
          "metadata": {
            "tags": []
          },
          "execution_count": 5
        }
      ]
    },
    {
      "metadata": {
        "id": "oolHDyXb5DDu",
        "colab_type": "text"
      },
      "cell_type": "markdown",
      "source": [
        "Now that we have extracted the data attributes and corresponding labels, we will split them to form train and test datasets. For this purpose, we will use the scikit-learn's 'train_test_split' function, which takes in the attributes and labels as inputs and produces the train and test sets."
      ]
    },
    {
      "metadata": {
        "id": "wUq2Pk8h5DDx",
        "colab_type": "code",
        "colab": {}
      },
      "cell_type": "code",
      "source": [
        "#using the train_test_split to create train and test sets.\n",
        "\n",
        "X_train, X_test, y_train, y_test = train_test_split(\n",
        "    X, y, test_size = 0.25, random_state=47)"
      ],
      "execution_count": 0,
      "outputs": []
    },
    {
      "metadata": {
        "id": "FPKR3JDQ5DD1",
        "colab_type": "text"
      },
      "cell_type": "markdown",
      "source": [
        "Since, this is a classification problem, we will import the DecisionTreeClassifier function from the sklearn library. Next, we will set the 'criterion' to 'entropy', which sets the measure for splitting the attribute to information gain."
      ]
    },
    {
      "metadata": {
        "id": "dLUzUcLs5DD2",
        "colab_type": "code",
        "colab": {}
      },
      "cell_type": "code",
      "source": [
        "clf = DecisionTreeClassifier(criterion = 'entropy')"
      ],
      "execution_count": 0,
      "outputs": []
    },
    {
      "metadata": {
        "id": "rnORtAPI5DD7",
        "colab_type": "text"
      },
      "cell_type": "markdown",
      "source": [
        "Next, we will fit the classifier on the train attributes and labels."
      ]
    },
    {
      "metadata": {
        "id": "hOe5fai_5DD9",
        "colab_type": "code",
        "colab": {
          "base_uri": "https://localhost:8080/",
          "height": 119
        },
        "outputId": "2d22e17b-be0c-461d-e91c-19d5cb683745"
      },
      "cell_type": "code",
      "source": [
        "#training the decision tree classifier\n",
        "\n",
        "clf.fit(X_train, y_train)"
      ],
      "execution_count": 8,
      "outputs": [
        {
          "output_type": "execute_result",
          "data": {
            "text/plain": [
              "DecisionTreeClassifier(class_weight=None, criterion='entropy', max_depth=None,\n",
              "            max_features=None, max_leaf_nodes=None,\n",
              "            min_impurity_decrease=0.0, min_impurity_split=None,\n",
              "            min_samples_leaf=1, min_samples_split=2,\n",
              "            min_weight_fraction_leaf=0.0, presort=False, random_state=None,\n",
              "            splitter='best')"
            ]
          },
          "metadata": {
            "tags": []
          },
          "execution_count": 8
        }
      ]
    },
    {
      "metadata": {
        "id": "TOW3L7xu5DEE",
        "colab_type": "text"
      },
      "cell_type": "markdown",
      "source": [
        "Now, we will use the trained classifier/ model to predict the labels of the test attributes."
      ]
    },
    {
      "metadata": {
        "id": "FagOgXVW5DEG",
        "colab_type": "code",
        "colab": {}
      },
      "cell_type": "code",
      "source": [
        "#predicting labels on the test set\n",
        "\n",
        "y_pred = clf.predict(X_test)"
      ],
      "execution_count": 0,
      "outputs": []
    },
    {
      "metadata": {
        "id": "-IkEk5Gy5DEK",
        "colab_type": "text"
      },
      "cell_type": "markdown",
      "source": [
        "We will now evaluate the predicted classes using some metrics. For this case, we will use 'accuracy_score' to calculate the accuracy of the predicted labels."
      ]
    },
    {
      "metadata": {
        "id": "yLxFVT875DEN",
        "colab_type": "code",
        "colab": {}
      },
      "cell_type": "code",
      "source": [
        "#import the accuracy metric\n",
        "\n",
        "from sklearn.metrics import accuracy_score"
      ],
      "execution_count": 0,
      "outputs": []
    },
    {
      "metadata": {
        "id": "pf1z8iSR5DEU",
        "colab_type": "code",
        "colab": {
          "base_uri": "https://localhost:8080/",
          "height": 51
        },
        "outputId": "7b89ac47-5000-413a-ca79-cfb710f597f7"
      },
      "cell_type": "code",
      "source": [
        "print(\"Accuracy score on train data: \",accuracy_score(y_true=y_train,y_pred=clf.predict(X_train)))\n",
        "print(\"Accuracy score on test data: \",accuracy_score(y_true=y_test,y_pred=y_pred))"
      ],
      "execution_count": 11,
      "outputs": [
        {
          "output_type": "stream",
          "text": [
            "Accuracy score on train data:  1.0\n",
            "Accuracy score on test data:  0.9736842105263158\n"
          ],
          "name": "stdout"
        }
      ]
    },
    {
      "metadata": {
        "id": "BWIdO1YZ5DEi",
        "colab_type": "text"
      },
      "cell_type": "markdown",
      "source": [
        "Next, we will tune the parameters of the decision tree to increase its accuracy. One of those parameters is 'min_samples_split', which is the minimum number of samples required to split an internal node. Its default value is equal to 2 because we cannot split on a node containing only one example/ sample. the model is at its best with an accuracy score of 97%."
      ]
    },
    {
      "metadata": {
        "id": "_GhJa7e65DEx",
        "colab_type": "text"
      },
      "cell_type": "markdown",
      "source": [
        "## Advantages and Disadvantages\n",
        "Following are the advantages of decision trees: - Easy to use and understand. - Can handle both categorical and numerical data. - Resistant to outliers, hence require little data preprocessing. - New features can be easily added. - Can be used to build larger classifiers by using ensemble methods."
      ]
    },
    {
      "metadata": {
        "id": "IOSSZqu35DE0",
        "colab_type": "text"
      },
      "cell_type": "markdown",
      "source": [
        "Following are the disadvantages of decision trees: - Prone to overfitting. - Require some kind of measurement as to how well they are doing. - Need to be careful with parameter tuning. - Can create biased learned trees if some classes dominate."
      ]
    },
    {
      "metadata": {
        "id": "oGiHE_105DE2",
        "colab_type": "code",
        "colab": {}
      },
      "cell_type": "code",
      "source": [
        ""
      ],
      "execution_count": 0,
      "outputs": []
    }
  ]
}