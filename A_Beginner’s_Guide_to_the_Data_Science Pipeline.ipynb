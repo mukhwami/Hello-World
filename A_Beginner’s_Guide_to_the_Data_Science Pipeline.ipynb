{
  "nbformat": 4,
  "nbformat_minor": 0,
  "metadata": {
    "colab": {
      "name": "A_Beginner’s_Guide_to_the_Data_Science Pipeline.ipynb",
      "version": "0.3.2",
      "provenance": [],
      "toc_visible": true,
      "include_colab_link": true
    },
    "kernelspec": {
      "display_name": "Python 3",
      "language": "python",
      "name": "python3"
    }
  },
  "cells": [
    {
      "cell_type": "markdown",
      "metadata": {
        "id": "view-in-github",
        "colab_type": "text"
      },
      "source": [
        "<a href=\"https://colab.research.google.com/github/mukhwami/Hello-World/blob/master/A_Beginner%E2%80%99s_Guide_to_the_Data_Science%C2%A0Pipeline.ipynb\" target=\"_parent\"><img src=\"https://colab.research.google.com/assets/colab-badge.svg\" alt=\"Open In Colab\"/></a>"
      ]
    },
    {
      "metadata": {
        "colab_type": "text",
        "id": "I1esOYA8HiC0"
      },
      "cell_type": "markdown",
      "source": [
        " ####  Students Performance in Examinations Exploratory Data Analysis"
      ]
    },
    {
      "metadata": {
        "colab_type": "text",
        "id": "4gCWkXyBHiC3"
      },
      "cell_type": "markdown",
      "source": [
        "Marks secured by students in High School in various subjects from the United States of America.\n",
        "\n",
        "#### Aim\n",
        "\n",
        "To understand the influence of various factors like economic, personal and social on the students performance\n",
        "Inferences would be :\n",
        "1. How to improve the students performance in each test ?\n",
        "2. What are the major factors influencing the test scores ?\n",
        "3. Effectiveness of test preparation course?\n",
        "4. Other inferences\n",
        "\n"
      ]
    },
    {
      "metadata": {
        "colab_type": "text",
        "id": "wp8Wbt-ZHiC4"
      },
      "cell_type": "markdown",
      "source": [
        "### Getting the system ready and Obtaining the data\n"
      ]
    },
    {
      "metadata": {
        "colab_type": "code",
        "id": "9vKewNbkHiC6",
        "colab": {}
      },
      "cell_type": "code",
      "source": [
        "# Import the required libraries: Pandas, Numpy, Matplotlib and  Seaborn\n",
        "\n",
        "import pandas as pd  # For data munging, manipulations and preparation        \n",
        "import numpy as np  # for numerical and mathematical calculations\n",
        "import seaborn as sns # For statistical data visualization\n",
        "import matplotlib.pyplot as plt  # For plotting variety of graphs(histograms, heatplots, lineplots\n",
        "%matplotlib inline\n",
        "import warnings                   # To ignore the warnings\n",
        "warnings.filterwarnings(\"ignore\")"
      ],
      "execution_count": 0,
      "outputs": []
    },
    {
      "metadata": {
        "colab_type": "code",
        "id": "zVv6GXEGHiC_",
        "colab": {}
      },
      "cell_type": "code",
      "source": [
        "import sklearn  ## Machine learning lIbrary\n",
        "import featuretools as ft ## automated feature engineering library"
      ],
      "execution_count": 0,
      "outputs": []
    },
    {
      "metadata": {
        "colab_type": "text",
        "id": "cq8luuRIHiDF"
      },
      "cell_type": "markdown",
      "source": [
        "Let us initialize the required values \n",
        "( we will use them later in the program )\n",
        "\n",
        "we will set the minimum marks to 40 to pass in a exam"
      ]
    },
    {
      "metadata": {
        "colab_type": "code",
        "id": "F5b9LtURHiDH",
        "colab": {}
      },
      "cell_type": "code",
      "source": [
        "passmark = 40"
      ],
      "execution_count": 0,
      "outputs": []
    },
    {
      "metadata": {
        "colab_type": "code",
        "id": "CEIJqZmhHiDP",
        "outputId": "39006f95-2b12-4506-d62a-126b9a731a18",
        "colab": {}
      },
      "cell_type": "code",
      "source": [
        "# Let us load and read the data from the csv file then print the top 10 rows  to understand the various data columns.\n",
        "\n",
        "df=pd.read_csv(\"StudentsPerformance.csv\")\n",
        "df.head()"
      ],
      "execution_count": 0,
      "outputs": [
        {
          "output_type": "execute_result",
          "data": {
            "text/html": [
              "<div>\n",
              "<style scoped>\n",
              "    .dataframe tbody tr th:only-of-type {\n",
              "        vertical-align: middle;\n",
              "    }\n",
              "\n",
              "    .dataframe tbody tr th {\n",
              "        vertical-align: top;\n",
              "    }\n",
              "\n",
              "    .dataframe thead th {\n",
              "        text-align: right;\n",
              "    }\n",
              "</style>\n",
              "<table border=\"1\" class=\"dataframe\">\n",
              "  <thead>\n",
              "    <tr style=\"text-align: right;\">\n",
              "      <th></th>\n",
              "      <th>gender</th>\n",
              "      <th>race/ethnicity</th>\n",
              "      <th>parental level of education</th>\n",
              "      <th>lunch</th>\n",
              "      <th>test preparation course</th>\n",
              "      <th>math score</th>\n",
              "      <th>reading score</th>\n",
              "      <th>writing score</th>\n",
              "    </tr>\n",
              "  </thead>\n",
              "  <tbody>\n",
              "    <tr>\n",
              "      <th>0</th>\n",
              "      <td>female</td>\n",
              "      <td>group B</td>\n",
              "      <td>bachelor's degree</td>\n",
              "      <td>standard</td>\n",
              "      <td>none</td>\n",
              "      <td>72</td>\n",
              "      <td>72</td>\n",
              "      <td>74</td>\n",
              "    </tr>\n",
              "    <tr>\n",
              "      <th>1</th>\n",
              "      <td>female</td>\n",
              "      <td>group C</td>\n",
              "      <td>some college</td>\n",
              "      <td>standard</td>\n",
              "      <td>completed</td>\n",
              "      <td>69</td>\n",
              "      <td>90</td>\n",
              "      <td>88</td>\n",
              "    </tr>\n",
              "    <tr>\n",
              "      <th>2</th>\n",
              "      <td>female</td>\n",
              "      <td>group B</td>\n",
              "      <td>master's degree</td>\n",
              "      <td>standard</td>\n",
              "      <td>none</td>\n",
              "      <td>90</td>\n",
              "      <td>95</td>\n",
              "      <td>93</td>\n",
              "    </tr>\n",
              "    <tr>\n",
              "      <th>3</th>\n",
              "      <td>male</td>\n",
              "      <td>group A</td>\n",
              "      <td>associate's degree</td>\n",
              "      <td>free/reduced</td>\n",
              "      <td>none</td>\n",
              "      <td>47</td>\n",
              "      <td>57</td>\n",
              "      <td>44</td>\n",
              "    </tr>\n",
              "    <tr>\n",
              "      <th>4</th>\n",
              "      <td>male</td>\n",
              "      <td>group C</td>\n",
              "      <td>some college</td>\n",
              "      <td>standard</td>\n",
              "      <td>none</td>\n",
              "      <td>76</td>\n",
              "      <td>78</td>\n",
              "      <td>75</td>\n",
              "    </tr>\n",
              "  </tbody>\n",
              "</table>\n",
              "</div>"
            ],
            "text/plain": [
              "   gender race/ethnicity parental level of education         lunch  \\\n",
              "0  female        group B           bachelor's degree      standard   \n",
              "1  female        group C                some college      standard   \n",
              "2  female        group B             master's degree      standard   \n",
              "3    male        group A          associate's degree  free/reduced   \n",
              "4    male        group C                some college      standard   \n",
              "\n",
              "  test preparation course  math score  reading score  writing score  \n",
              "0                    none          72             72             74  \n",
              "1               completed          69             90             88  \n",
              "2                    none          90             95             93  \n",
              "3                    none          47             57             44  \n",
              "4                    none          76             78             75  "
            ]
          },
          "metadata": {
            "tags": []
          },
          "execution_count": 4
        }
      ]
    },
    {
      "metadata": {
        "colab_type": "text",
        "id": "4Pu5G_lqHiDY"
      },
      "cell_type": "markdown",
      "source": [
        "### Understanding of the Data"
      ]
    },
    {
      "metadata": {
        "colab_type": "code",
        "id": "JadhVVIAHiDZ",
        "outputId": "d9b8ccd5-47e0-4127-988a-b49f3b06d328",
        "colab": {}
      },
      "cell_type": "code",
      "source": [
        "# Check the instances(rows) and attributes(columns) in the dataset: Size and Dimension of the dataframe\n",
        "df.shape\n",
        "print(\"DataFrame Dimenisons:\", df.shape)"
      ],
      "execution_count": 0,
      "outputs": [
        {
          "output_type": "stream",
          "text": [
            "DataFrame Dimenisons: (1000, 8)\n"
          ],
          "name": "stdout"
        }
      ]
    },
    {
      "metadata": {
        "colab_type": "code",
        "id": "ciGgBPA7HiDf",
        "outputId": "5a5e9553-3f51-4c19-d176-44a616003d07",
        "colab": {}
      },
      "cell_type": "code",
      "source": [
        "# Concise Summary of the Data frame\n",
        "\n",
        "df.info()"
      ],
      "execution_count": 0,
      "outputs": [
        {
          "output_type": "stream",
          "text": [
            "<class 'pandas.core.frame.DataFrame'>\n",
            "RangeIndex: 1000 entries, 0 to 999\n",
            "Data columns (total 8 columns):\n",
            "gender                         1000 non-null object\n",
            "race/ethnicity                 1000 non-null object\n",
            "parental level of education    1000 non-null object\n",
            "lunch                          1000 non-null object\n",
            "test preparation course        1000 non-null object\n",
            "math score                     1000 non-null int64\n",
            "reading score                  1000 non-null int64\n",
            "writing score                  1000 non-null int64\n",
            "dtypes: int64(3), object(5)\n",
            "memory usage: 62.6+ KB\n"
          ],
          "name": "stdout"
        }
      ]
    },
    {
      "metadata": {
        "colab_type": "code",
        "id": "Lson35RYHiDo",
        "outputId": "38953d07-7c7f-4e85-e3cb-1c3f3641ba31",
        "colab": {}
      },
      "cell_type": "code",
      "source": [
        "# Checking the Column types and Count value\n",
        "\n",
        "ctype = df.dtypes.reset_index()\n",
        "ctype.columns = [\"Count\", \"Column Type\"]\n",
        "ctype.groupby(\"Column Type\").aggregate('count').reset_index()\n",
        "ctype\n",
        "#df.info()"
      ],
      "execution_count": 0,
      "outputs": [
        {
          "output_type": "execute_result",
          "data": {
            "text/html": [
              "<div>\n",
              "<style scoped>\n",
              "    .dataframe tbody tr th:only-of-type {\n",
              "        vertical-align: middle;\n",
              "    }\n",
              "\n",
              "    .dataframe tbody tr th {\n",
              "        vertical-align: top;\n",
              "    }\n",
              "\n",
              "    .dataframe thead th {\n",
              "        text-align: right;\n",
              "    }\n",
              "</style>\n",
              "<table border=\"1\" class=\"dataframe\">\n",
              "  <thead>\n",
              "    <tr style=\"text-align: right;\">\n",
              "      <th></th>\n",
              "      <th>Count</th>\n",
              "      <th>Column Type</th>\n",
              "    </tr>\n",
              "  </thead>\n",
              "  <tbody>\n",
              "    <tr>\n",
              "      <th>0</th>\n",
              "      <td>gender</td>\n",
              "      <td>object</td>\n",
              "    </tr>\n",
              "    <tr>\n",
              "      <th>1</th>\n",
              "      <td>race/ethnicity</td>\n",
              "      <td>object</td>\n",
              "    </tr>\n",
              "    <tr>\n",
              "      <th>2</th>\n",
              "      <td>parental level of education</td>\n",
              "      <td>object</td>\n",
              "    </tr>\n",
              "    <tr>\n",
              "      <th>3</th>\n",
              "      <td>lunch</td>\n",
              "      <td>object</td>\n",
              "    </tr>\n",
              "    <tr>\n",
              "      <th>4</th>\n",
              "      <td>test preparation course</td>\n",
              "      <td>object</td>\n",
              "    </tr>\n",
              "    <tr>\n",
              "      <th>5</th>\n",
              "      <td>math score</td>\n",
              "      <td>int64</td>\n",
              "    </tr>\n",
              "    <tr>\n",
              "      <th>6</th>\n",
              "      <td>reading score</td>\n",
              "      <td>int64</td>\n",
              "    </tr>\n",
              "    <tr>\n",
              "      <th>7</th>\n",
              "      <td>writing score</td>\n",
              "      <td>int64</td>\n",
              "    </tr>\n",
              "  </tbody>\n",
              "</table>\n",
              "</div>"
            ],
            "text/plain": [
              "                         Count Column Type\n",
              "0                       gender      object\n",
              "1               race/ethnicity      object\n",
              "2  parental level of education      object\n",
              "3                        lunch      object\n",
              "4      test preparation course      object\n",
              "5                   math score       int64\n",
              "6                reading score       int64\n",
              "7                writing score       int64"
            ]
          },
          "metadata": {
            "tags": []
          },
          "execution_count": 5
        }
      ]
    },
    {
      "metadata": {
        "colab_type": "code",
        "id": "cKajnH4VHiDt",
        "outputId": "d88b75a0-7a7c-48d3-e01d-1f348d7523f6",
        "colab": {}
      },
      "cell_type": "code",
      "source": [
        "df['gender'].value_counts()"
      ],
      "execution_count": 0,
      "outputs": [
        {
          "output_type": "execute_result",
          "data": {
            "text/plain": [
              "female    518\n",
              "male      482\n",
              "Name: gender, dtype: int64"
            ]
          },
          "metadata": {
            "tags": []
          },
          "execution_count": 15
        }
      ]
    },
    {
      "metadata": {
        "colab_type": "code",
        "id": "IMjyxlSnHiDz",
        "colab": {}
      },
      "cell_type": "code",
      "source": [
        "df['test preparation course'].value_counts()"
      ],
      "execution_count": 0,
      "outputs": []
    },
    {
      "metadata": {
        "colab_type": "code",
        "id": "K2sY2E5jHiD5",
        "outputId": "19b9ce86-2a88-472f-ba09-c531cfba3732",
        "colab": {}
      },
      "cell_type": "code",
      "source": [
        "a=df['race/ethnicity'].value_counts()\n",
        "a\n"
      ],
      "execution_count": 0,
      "outputs": [
        {
          "output_type": "execute_result",
          "data": {
            "text/plain": [
              "group C    319\n",
              "group D    262\n",
              "group B    190\n",
              "group E    140\n",
              "group A     89\n",
              "Name: race/ethnicity, dtype: int64"
            ]
          },
          "metadata": {
            "tags": []
          },
          "execution_count": 17
        }
      ]
    },
    {
      "metadata": {
        "colab_type": "code",
        "id": "hse9EpYiHiD-",
        "outputId": "036e99a6-bb42-436a-c361-cbacef544c61",
        "colab": {}
      },
      "cell_type": "code",
      "source": [
        "# Check the  Statistical Numerical Data Distribution Summary\n",
        "\n",
        "df.describe()"
      ],
      "execution_count": 0,
      "outputs": [
        {
          "output_type": "execute_result",
          "data": {
            "text/html": [
              "<div>\n",
              "<style scoped>\n",
              "    .dataframe tbody tr th:only-of-type {\n",
              "        vertical-align: middle;\n",
              "    }\n",
              "\n",
              "    .dataframe tbody tr th {\n",
              "        vertical-align: top;\n",
              "    }\n",
              "\n",
              "    .dataframe thead th {\n",
              "        text-align: right;\n",
              "    }\n",
              "</style>\n",
              "<table border=\"1\" class=\"dataframe\">\n",
              "  <thead>\n",
              "    <tr style=\"text-align: right;\">\n",
              "      <th></th>\n",
              "      <th>math score</th>\n",
              "      <th>reading score</th>\n",
              "      <th>writing score</th>\n",
              "    </tr>\n",
              "  </thead>\n",
              "  <tbody>\n",
              "    <tr>\n",
              "      <th>count</th>\n",
              "      <td>1000.00000</td>\n",
              "      <td>1000.000000</td>\n",
              "      <td>1000.000000</td>\n",
              "    </tr>\n",
              "    <tr>\n",
              "      <th>mean</th>\n",
              "      <td>66.08900</td>\n",
              "      <td>69.169000</td>\n",
              "      <td>68.054000</td>\n",
              "    </tr>\n",
              "    <tr>\n",
              "      <th>std</th>\n",
              "      <td>15.16308</td>\n",
              "      <td>14.600192</td>\n",
              "      <td>15.195657</td>\n",
              "    </tr>\n",
              "    <tr>\n",
              "      <th>min</th>\n",
              "      <td>0.00000</td>\n",
              "      <td>17.000000</td>\n",
              "      <td>10.000000</td>\n",
              "    </tr>\n",
              "    <tr>\n",
              "      <th>25%</th>\n",
              "      <td>57.00000</td>\n",
              "      <td>59.000000</td>\n",
              "      <td>57.750000</td>\n",
              "    </tr>\n",
              "    <tr>\n",
              "      <th>50%</th>\n",
              "      <td>66.00000</td>\n",
              "      <td>70.000000</td>\n",
              "      <td>69.000000</td>\n",
              "    </tr>\n",
              "    <tr>\n",
              "      <th>75%</th>\n",
              "      <td>77.00000</td>\n",
              "      <td>79.000000</td>\n",
              "      <td>79.000000</td>\n",
              "    </tr>\n",
              "    <tr>\n",
              "      <th>max</th>\n",
              "      <td>100.00000</td>\n",
              "      <td>100.000000</td>\n",
              "      <td>100.000000</td>\n",
              "    </tr>\n",
              "  </tbody>\n",
              "</table>\n",
              "</div>"
            ],
            "text/plain": [
              "       math score  reading score  writing score\n",
              "count  1000.00000    1000.000000    1000.000000\n",
              "mean     66.08900      69.169000      68.054000\n",
              "std      15.16308      14.600192      15.195657\n",
              "min       0.00000      17.000000      10.000000\n",
              "25%      57.00000      59.000000      57.750000\n",
              "50%      66.00000      70.000000      69.000000\n",
              "75%      77.00000      79.000000      79.000000\n",
              "max     100.00000     100.000000     100.000000"
            ]
          },
          "metadata": {
            "tags": []
          },
          "execution_count": 13
        }
      ]
    },
    {
      "metadata": {
        "colab_type": "code",
        "id": "v8HbypSJHiEI",
        "outputId": "b3ec2959-ffd2-43de-934c-c81ff77da164",
        "colab": {}
      },
      "cell_type": "code",
      "source": [
        "# Descriptive Statistics Summary of al columns:\n",
        "\n",
        "df.describe(include='all')"
      ],
      "execution_count": 0,
      "outputs": [
        {
          "output_type": "execute_result",
          "data": {
            "text/html": [
              "<div>\n",
              "<style scoped>\n",
              "    .dataframe tbody tr th:only-of-type {\n",
              "        vertical-align: middle;\n",
              "    }\n",
              "\n",
              "    .dataframe tbody tr th {\n",
              "        vertical-align: top;\n",
              "    }\n",
              "\n",
              "    .dataframe thead th {\n",
              "        text-align: right;\n",
              "    }\n",
              "</style>\n",
              "<table border=\"1\" class=\"dataframe\">\n",
              "  <thead>\n",
              "    <tr style=\"text-align: right;\">\n",
              "      <th></th>\n",
              "      <th>gender</th>\n",
              "      <th>race/ethnicity</th>\n",
              "      <th>parental level of education</th>\n",
              "      <th>lunch</th>\n",
              "      <th>test preparation course</th>\n",
              "      <th>math score</th>\n",
              "      <th>reading score</th>\n",
              "      <th>writing score</th>\n",
              "    </tr>\n",
              "  </thead>\n",
              "  <tbody>\n",
              "    <tr>\n",
              "      <th>count</th>\n",
              "      <td>1000</td>\n",
              "      <td>1000</td>\n",
              "      <td>1000</td>\n",
              "      <td>1000</td>\n",
              "      <td>1000</td>\n",
              "      <td>1000.00000</td>\n",
              "      <td>1000.000000</td>\n",
              "      <td>1000.000000</td>\n",
              "    </tr>\n",
              "    <tr>\n",
              "      <th>unique</th>\n",
              "      <td>2</td>\n",
              "      <td>5</td>\n",
              "      <td>6</td>\n",
              "      <td>2</td>\n",
              "      <td>2</td>\n",
              "      <td>NaN</td>\n",
              "      <td>NaN</td>\n",
              "      <td>NaN</td>\n",
              "    </tr>\n",
              "    <tr>\n",
              "      <th>top</th>\n",
              "      <td>female</td>\n",
              "      <td>group C</td>\n",
              "      <td>some college</td>\n",
              "      <td>standard</td>\n",
              "      <td>none</td>\n",
              "      <td>NaN</td>\n",
              "      <td>NaN</td>\n",
              "      <td>NaN</td>\n",
              "    </tr>\n",
              "    <tr>\n",
              "      <th>freq</th>\n",
              "      <td>518</td>\n",
              "      <td>319</td>\n",
              "      <td>226</td>\n",
              "      <td>645</td>\n",
              "      <td>642</td>\n",
              "      <td>NaN</td>\n",
              "      <td>NaN</td>\n",
              "      <td>NaN</td>\n",
              "    </tr>\n",
              "    <tr>\n",
              "      <th>mean</th>\n",
              "      <td>NaN</td>\n",
              "      <td>NaN</td>\n",
              "      <td>NaN</td>\n",
              "      <td>NaN</td>\n",
              "      <td>NaN</td>\n",
              "      <td>66.08900</td>\n",
              "      <td>69.169000</td>\n",
              "      <td>68.054000</td>\n",
              "    </tr>\n",
              "    <tr>\n",
              "      <th>std</th>\n",
              "      <td>NaN</td>\n",
              "      <td>NaN</td>\n",
              "      <td>NaN</td>\n",
              "      <td>NaN</td>\n",
              "      <td>NaN</td>\n",
              "      <td>15.16308</td>\n",
              "      <td>14.600192</td>\n",
              "      <td>15.195657</td>\n",
              "    </tr>\n",
              "    <tr>\n",
              "      <th>min</th>\n",
              "      <td>NaN</td>\n",
              "      <td>NaN</td>\n",
              "      <td>NaN</td>\n",
              "      <td>NaN</td>\n",
              "      <td>NaN</td>\n",
              "      <td>0.00000</td>\n",
              "      <td>17.000000</td>\n",
              "      <td>10.000000</td>\n",
              "    </tr>\n",
              "    <tr>\n",
              "      <th>25%</th>\n",
              "      <td>NaN</td>\n",
              "      <td>NaN</td>\n",
              "      <td>NaN</td>\n",
              "      <td>NaN</td>\n",
              "      <td>NaN</td>\n",
              "      <td>57.00000</td>\n",
              "      <td>59.000000</td>\n",
              "      <td>57.750000</td>\n",
              "    </tr>\n",
              "    <tr>\n",
              "      <th>50%</th>\n",
              "      <td>NaN</td>\n",
              "      <td>NaN</td>\n",
              "      <td>NaN</td>\n",
              "      <td>NaN</td>\n",
              "      <td>NaN</td>\n",
              "      <td>66.00000</td>\n",
              "      <td>70.000000</td>\n",
              "      <td>69.000000</td>\n",
              "    </tr>\n",
              "    <tr>\n",
              "      <th>75%</th>\n",
              "      <td>NaN</td>\n",
              "      <td>NaN</td>\n",
              "      <td>NaN</td>\n",
              "      <td>NaN</td>\n",
              "      <td>NaN</td>\n",
              "      <td>77.00000</td>\n",
              "      <td>79.000000</td>\n",
              "      <td>79.000000</td>\n",
              "    </tr>\n",
              "    <tr>\n",
              "      <th>max</th>\n",
              "      <td>NaN</td>\n",
              "      <td>NaN</td>\n",
              "      <td>NaN</td>\n",
              "      <td>NaN</td>\n",
              "      <td>NaN</td>\n",
              "      <td>100.00000</td>\n",
              "      <td>100.000000</td>\n",
              "      <td>100.000000</td>\n",
              "    </tr>\n",
              "  </tbody>\n",
              "</table>\n",
              "</div>"
            ],
            "text/plain": [
              "        gender race/ethnicity parental level of education     lunch  \\\n",
              "count     1000           1000                        1000      1000   \n",
              "unique       2              5                           6         2   \n",
              "top     female        group C                some college  standard   \n",
              "freq       518            319                         226       645   \n",
              "mean       NaN            NaN                         NaN       NaN   \n",
              "std        NaN            NaN                         NaN       NaN   \n",
              "min        NaN            NaN                         NaN       NaN   \n",
              "25%        NaN            NaN                         NaN       NaN   \n",
              "50%        NaN            NaN                         NaN       NaN   \n",
              "75%        NaN            NaN                         NaN       NaN   \n",
              "max        NaN            NaN                         NaN       NaN   \n",
              "\n",
              "       test preparation course  math score  reading score  writing score  \n",
              "count                     1000  1000.00000    1000.000000    1000.000000  \n",
              "unique                       2         NaN            NaN            NaN  \n",
              "top                       none         NaN            NaN            NaN  \n",
              "freq                       642         NaN            NaN            NaN  \n",
              "mean                       NaN    66.08900      69.169000      68.054000  \n",
              "std                        NaN    15.16308      14.600192      15.195657  \n",
              "min                        NaN     0.00000      17.000000      10.000000  \n",
              "25%                        NaN    57.00000      59.000000      57.750000  \n",
              "50%                        NaN    66.00000      70.000000      69.000000  \n",
              "75%                        NaN    77.00000      79.000000      79.000000  \n",
              "max                        NaN   100.00000     100.000000     100.000000  "
            ]
          },
          "metadata": {
            "tags": []
          },
          "execution_count": 19
        }
      ]
    },
    {
      "metadata": {
        "colab_type": "code",
        "id": "Fy9JP2RMHiEN",
        "outputId": "7c694982-87a6-49e5-a742-ef5138729138",
        "colab": {}
      },
      "cell_type": "code",
      "source": [
        "# Selecting randomly a sample from the data set\n",
        "\n",
        "df.sample()"
      ],
      "execution_count": 0,
      "outputs": [
        {
          "output_type": "execute_result",
          "data": {
            "text/html": [
              "<div>\n",
              "<style scoped>\n",
              "    .dataframe tbody tr th:only-of-type {\n",
              "        vertical-align: middle;\n",
              "    }\n",
              "\n",
              "    .dataframe tbody tr th {\n",
              "        vertical-align: top;\n",
              "    }\n",
              "\n",
              "    .dataframe thead th {\n",
              "        text-align: right;\n",
              "    }\n",
              "</style>\n",
              "<table border=\"1\" class=\"dataframe\">\n",
              "  <thead>\n",
              "    <tr style=\"text-align: right;\">\n",
              "      <th></th>\n",
              "      <th>gender</th>\n",
              "      <th>race/ethnicity</th>\n",
              "      <th>parental level of education</th>\n",
              "      <th>lunch</th>\n",
              "      <th>test preparation course</th>\n",
              "      <th>math score</th>\n",
              "      <th>reading score</th>\n",
              "      <th>writing score</th>\n",
              "    </tr>\n",
              "  </thead>\n",
              "  <tbody>\n",
              "    <tr>\n",
              "      <th>664</th>\n",
              "      <td>male</td>\n",
              "      <td>group D</td>\n",
              "      <td>associate's degree</td>\n",
              "      <td>standard</td>\n",
              "      <td>none</td>\n",
              "      <td>80</td>\n",
              "      <td>63</td>\n",
              "      <td>63</td>\n",
              "    </tr>\n",
              "  </tbody>\n",
              "</table>\n",
              "</div>"
            ],
            "text/plain": [
              "    gender race/ethnicity parental level of education     lunch  \\\n",
              "664   male        group D          associate's degree  standard   \n",
              "\n",
              "    test preparation course  math score  reading score  writing score  \n",
              "664                    none          80             63             63  "
            ]
          },
          "metadata": {
            "tags": []
          },
          "execution_count": 14
        }
      ]
    },
    {
      "metadata": {
        "colab_type": "code",
        "id": "ykkDPfluHiEU",
        "outputId": "4937553e-f61c-4a01-ff46-59f960c615a0",
        "colab": {}
      },
      "cell_type": "code",
      "source": [
        "# Gives information on columns types and number of null values and their percentages\n",
        "\n",
        "tab_info=pd.DataFrame(df.dtypes).T.rename(index={0:'column type'})\n",
        "tab_info=tab_info.append(pd.DataFrame(df.isnull().sum()).T.rename(index={0:'null values (nb)'}))\n",
        "tab_info=tab_info.append(pd.DataFrame(df.isnull().sum()/df.shape[0]*100)\n",
        "                         .T.rename(index={0:'null values (%)'}))\n",
        "tab_info"
      ],
      "execution_count": 0,
      "outputs": [
        {
          "output_type": "execute_result",
          "data": {
            "text/html": [
              "<div>\n",
              "<style scoped>\n",
              "    .dataframe tbody tr th:only-of-type {\n",
              "        vertical-align: middle;\n",
              "    }\n",
              "\n",
              "    .dataframe tbody tr th {\n",
              "        vertical-align: top;\n",
              "    }\n",
              "\n",
              "    .dataframe thead th {\n",
              "        text-align: right;\n",
              "    }\n",
              "</style>\n",
              "<table border=\"1\" class=\"dataframe\">\n",
              "  <thead>\n",
              "    <tr style=\"text-align: right;\">\n",
              "      <th></th>\n",
              "      <th>gender</th>\n",
              "      <th>race/ethnicity</th>\n",
              "      <th>parental level of education</th>\n",
              "      <th>lunch</th>\n",
              "      <th>test preparation course</th>\n",
              "      <th>math score</th>\n",
              "      <th>reading score</th>\n",
              "      <th>writing score</th>\n",
              "      <th>Total_Marks</th>\n",
              "      <th>Percentage</th>\n",
              "      <th>Math_PassStatus</th>\n",
              "      <th>Reading_PassStatus</th>\n",
              "      <th>Writing_PassStatus</th>\n",
              "      <th>OverAll_PassStatus</th>\n",
              "      <th>Grade</th>\n",
              "    </tr>\n",
              "  </thead>\n",
              "  <tbody>\n",
              "    <tr>\n",
              "      <th>column type</th>\n",
              "      <td>object</td>\n",
              "      <td>object</td>\n",
              "      <td>object</td>\n",
              "      <td>object</td>\n",
              "      <td>object</td>\n",
              "      <td>int64</td>\n",
              "      <td>int64</td>\n",
              "      <td>int64</td>\n",
              "      <td>int64</td>\n",
              "      <td>float64</td>\n",
              "      <td>object</td>\n",
              "      <td>object</td>\n",
              "      <td>object</td>\n",
              "      <td>object</td>\n",
              "      <td>object</td>\n",
              "    </tr>\n",
              "    <tr>\n",
              "      <th>null values (nb)</th>\n",
              "      <td>0</td>\n",
              "      <td>0</td>\n",
              "      <td>0</td>\n",
              "      <td>0</td>\n",
              "      <td>0</td>\n",
              "      <td>0</td>\n",
              "      <td>0</td>\n",
              "      <td>0</td>\n",
              "      <td>0</td>\n",
              "      <td>0</td>\n",
              "      <td>0</td>\n",
              "      <td>0</td>\n",
              "      <td>0</td>\n",
              "      <td>0</td>\n",
              "      <td>0</td>\n",
              "    </tr>\n",
              "    <tr>\n",
              "      <th>null values (%)</th>\n",
              "      <td>0</td>\n",
              "      <td>0</td>\n",
              "      <td>0</td>\n",
              "      <td>0</td>\n",
              "      <td>0</td>\n",
              "      <td>0</td>\n",
              "      <td>0</td>\n",
              "      <td>0</td>\n",
              "      <td>0</td>\n",
              "      <td>0</td>\n",
              "      <td>0</td>\n",
              "      <td>0</td>\n",
              "      <td>0</td>\n",
              "      <td>0</td>\n",
              "      <td>0</td>\n",
              "    </tr>\n",
              "  </tbody>\n",
              "</table>\n",
              "</div>"
            ],
            "text/plain": [
              "                  gender race/ethnicity parental level of education   lunch  \\\n",
              "column type       object         object                      object  object   \n",
              "null values (nb)       0              0                           0       0   \n",
              "null values (%)        0              0                           0       0   \n",
              "\n",
              "                 test preparation course math score reading score  \\\n",
              "column type                       object      int64         int64   \n",
              "null values (nb)                       0          0             0   \n",
              "null values (%)                        0          0             0   \n",
              "\n",
              "                 writing score Total_Marks Percentage Math_PassStatus  \\\n",
              "column type              int64       int64    float64          object   \n",
              "null values (nb)             0           0          0               0   \n",
              "null values (%)              0           0          0               0   \n",
              "\n",
              "                 Reading_PassStatus Writing_PassStatus OverAll_PassStatus  \\\n",
              "column type                  object             object             object   \n",
              "null values (nb)                  0                  0                  0   \n",
              "null values (%)                   0                  0                  0   \n",
              "\n",
              "                   Grade  \n",
              "column type       object  \n",
              "null values (nb)       0  \n",
              "null values (%)        0  "
            ]
          },
          "metadata": {
            "tags": []
          },
          "execution_count": 164
        }
      ]
    },
    {
      "metadata": {
        "colab_type": "text",
        "id": "08Hb5VooHiEc"
      },
      "cell_type": "markdown",
      "source": [
        "## Data Preparation\n",
        "\n",
        "This encompasses the activities to construct and clean the data set. "
      ]
    },
    {
      "metadata": {
        "colab_type": "text",
        "id": "VSglA1SqHiEd"
      },
      "cell_type": "markdown",
      "source": [
        "### Missing Values Detection and Treatment"
      ]
    },
    {
      "metadata": {
        "colab_type": "code",
        "id": "5bgz2uF2HiEf",
        "outputId": "fcbf68cd-ff12-47b0-f121-0862c754959d",
        "colab": {}
      },
      "cell_type": "code",
      "source": [
        "# Checking the  Missing Values\n",
        "\n",
        "missing_df = df.isnull().sum(axis=0).reset_index()\n",
        "missing_df.columns = ['Column_Name', 'Missing_Count']\n",
        "missing_df = missing_df[missing_df['Missing_Count']>0]\n",
        "missing_df = missing_df.sort_values(by='Missing_Count')\n",
        "missing_df"
      ],
      "execution_count": 0,
      "outputs": [
        {
          "output_type": "execute_result",
          "data": {
            "text/html": [
              "<div>\n",
              "<style scoped>\n",
              "    .dataframe tbody tr th:only-of-type {\n",
              "        vertical-align: middle;\n",
              "    }\n",
              "\n",
              "    .dataframe tbody tr th {\n",
              "        vertical-align: top;\n",
              "    }\n",
              "\n",
              "    .dataframe thead th {\n",
              "        text-align: right;\n",
              "    }\n",
              "</style>\n",
              "<table border=\"1\" class=\"dataframe\">\n",
              "  <thead>\n",
              "    <tr style=\"text-align: right;\">\n",
              "      <th></th>\n",
              "      <th>Column_Name</th>\n",
              "      <th>Missing_Count</th>\n",
              "    </tr>\n",
              "  </thead>\n",
              "  <tbody>\n",
              "  </tbody>\n",
              "</table>\n",
              "</div>"
            ],
            "text/plain": [
              "Empty DataFrame\n",
              "Columns: [Column_Name, Missing_Count]\n",
              "Index: []"
            ]
          },
          "metadata": {
            "tags": []
          },
          "execution_count": 39
        }
      ]
    },
    {
      "metadata": {
        "colab_type": "text",
        "id": "-dZu8GoCHiEo"
      },
      "cell_type": "markdown",
      "source": [
        "As seen above, there are no missing ( null ) values in this dataframe "
      ]
    },
    {
      "metadata": {
        "colab_type": "code",
        "id": "vfOp9ge_HiEp",
        "outputId": "99adb5c0-4beb-4cc5-8e33-af2ed457bb97",
        "colab": {}
      },
      "cell_type": "code",
      "source": [
        "# code for checking the missing values\n",
        "\n",
        "df.isnull().sum()"
      ],
      "execution_count": 0,
      "outputs": [
        {
          "output_type": "execute_result",
          "data": {
            "text/plain": [
              "gender                         0\n",
              "race/ethnicity                 0\n",
              "parental level of education    0\n",
              "lunch                          0\n",
              "test preparation course        0\n",
              "math score                     0\n",
              "reading score                  0\n",
              "writing score                  0\n",
              "dtype: int64"
            ]
          },
          "metadata": {
            "tags": []
          },
          "execution_count": 17
        }
      ]
    },
    {
      "metadata": {
        "colab_type": "code",
        "id": "A3DCF71lHiEu",
        "outputId": "6d98c406-5df9-4e3f-d768-c309f6577e99",
        "colab": {}
      },
      "cell_type": "code",
      "source": [
        "# Checking the missing values\n",
        "\n",
        "missing_df =df.isnull().sum(axis=0).reset_index()\n",
        "missing_df.columns = ['Column Name', 'Missing Values Count']\n",
        "missing_df['Filling Factor (%)']=(df.shape[0]-missing_df['Missing Values Count'])/df.shape[0]*100\n",
        "missing_df.sort_values('Filling Factor (%)').reset_index(drop = True)"
      ],
      "execution_count": 0,
      "outputs": [
        {
          "output_type": "execute_result",
          "data": {
            "text/html": [
              "<div>\n",
              "<style scoped>\n",
              "    .dataframe tbody tr th:only-of-type {\n",
              "        vertical-align: middle;\n",
              "    }\n",
              "\n",
              "    .dataframe tbody tr th {\n",
              "        vertical-align: top;\n",
              "    }\n",
              "\n",
              "    .dataframe thead th {\n",
              "        text-align: right;\n",
              "    }\n",
              "</style>\n",
              "<table border=\"1\" class=\"dataframe\">\n",
              "  <thead>\n",
              "    <tr style=\"text-align: right;\">\n",
              "      <th></th>\n",
              "      <th>Column Name</th>\n",
              "      <th>Missing Values Count</th>\n",
              "      <th>Filling Factor (%)</th>\n",
              "    </tr>\n",
              "  </thead>\n",
              "  <tbody>\n",
              "    <tr>\n",
              "      <th>0</th>\n",
              "      <td>gender</td>\n",
              "      <td>0</td>\n",
              "      <td>100.0</td>\n",
              "    </tr>\n",
              "    <tr>\n",
              "      <th>1</th>\n",
              "      <td>race/ethnicity</td>\n",
              "      <td>0</td>\n",
              "      <td>100.0</td>\n",
              "    </tr>\n",
              "    <tr>\n",
              "      <th>2</th>\n",
              "      <td>parental level of education</td>\n",
              "      <td>0</td>\n",
              "      <td>100.0</td>\n",
              "    </tr>\n",
              "    <tr>\n",
              "      <th>3</th>\n",
              "      <td>lunch</td>\n",
              "      <td>0</td>\n",
              "      <td>100.0</td>\n",
              "    </tr>\n",
              "    <tr>\n",
              "      <th>4</th>\n",
              "      <td>test preparation course</td>\n",
              "      <td>0</td>\n",
              "      <td>100.0</td>\n",
              "    </tr>\n",
              "    <tr>\n",
              "      <th>5</th>\n",
              "      <td>math score</td>\n",
              "      <td>0</td>\n",
              "      <td>100.0</td>\n",
              "    </tr>\n",
              "    <tr>\n",
              "      <th>6</th>\n",
              "      <td>reading score</td>\n",
              "      <td>0</td>\n",
              "      <td>100.0</td>\n",
              "    </tr>\n",
              "    <tr>\n",
              "      <th>7</th>\n",
              "      <td>writing score</td>\n",
              "      <td>0</td>\n",
              "      <td>100.0</td>\n",
              "    </tr>\n",
              "  </tbody>\n",
              "</table>\n",
              "</div>"
            ],
            "text/plain": [
              "                   Column Name  Missing Values Count  Filling Factor (%)\n",
              "0                       gender                     0               100.0\n",
              "1               race/ethnicity                     0               100.0\n",
              "2  parental level of education                     0               100.0\n",
              "3                        lunch                     0               100.0\n",
              "4      test preparation course                     0               100.0\n",
              "5                   math score                     0               100.0\n",
              "6                reading score                     0               100.0\n",
              "7                writing score                     0               100.0"
            ]
          },
          "metadata": {
            "tags": []
          },
          "execution_count": 21
        }
      ]
    },
    {
      "metadata": {
        "colab_type": "code",
        "id": "e78ae9alHiEy",
        "outputId": "acff1e5b-6fad-4c45-ee8a-7ad4004c0e5b",
        "colab": {}
      },
      "cell_type": "code",
      "source": [
        "# We check the number of values in the data set, which are None in the  Test Preparation Column.\n",
        "\n",
        "len(df.loc[df[\"test preparation course\"] == \"none\",:])"
      ],
      "execution_count": 0,
      "outputs": [
        {
          "output_type": "execute_result",
          "data": {
            "text/plain": [
              "642"
            ]
          },
          "metadata": {
            "tags": []
          },
          "execution_count": 23
        }
      ]
    },
    {
      "metadata": {
        "colab_type": "code",
        "id": "zOw7019aHiE4",
        "outputId": "59e709f9-4b41-4f14-98d3-44cb76f70eaa",
        "colab": {}
      },
      "cell_type": "code",
      "source": [
        "# In the test preparation column we bring only the first 10 of the data with no value.\n",
        "\n",
        "df.loc[df[\"test preparation course\"] == \"none\",:].head(10)"
      ],
      "execution_count": 0,
      "outputs": [
        {
          "output_type": "execute_result",
          "data": {
            "text/html": [
              "<div>\n",
              "<style scoped>\n",
              "    .dataframe tbody tr th:only-of-type {\n",
              "        vertical-align: middle;\n",
              "    }\n",
              "\n",
              "    .dataframe tbody tr th {\n",
              "        vertical-align: top;\n",
              "    }\n",
              "\n",
              "    .dataframe thead th {\n",
              "        text-align: right;\n",
              "    }\n",
              "</style>\n",
              "<table border=\"1\" class=\"dataframe\">\n",
              "  <thead>\n",
              "    <tr style=\"text-align: right;\">\n",
              "      <th></th>\n",
              "      <th>gender</th>\n",
              "      <th>race/ethnicity</th>\n",
              "      <th>parental level of education</th>\n",
              "      <th>lunch</th>\n",
              "      <th>test preparation course</th>\n",
              "      <th>math score</th>\n",
              "      <th>reading score</th>\n",
              "      <th>writing score</th>\n",
              "    </tr>\n",
              "  </thead>\n",
              "  <tbody>\n",
              "    <tr>\n",
              "      <th>0</th>\n",
              "      <td>female</td>\n",
              "      <td>group B</td>\n",
              "      <td>bachelor's degree</td>\n",
              "      <td>standard</td>\n",
              "      <td>none</td>\n",
              "      <td>72</td>\n",
              "      <td>72</td>\n",
              "      <td>74</td>\n",
              "    </tr>\n",
              "    <tr>\n",
              "      <th>2</th>\n",
              "      <td>female</td>\n",
              "      <td>group B</td>\n",
              "      <td>master's degree</td>\n",
              "      <td>standard</td>\n",
              "      <td>none</td>\n",
              "      <td>90</td>\n",
              "      <td>95</td>\n",
              "      <td>93</td>\n",
              "    </tr>\n",
              "    <tr>\n",
              "      <th>3</th>\n",
              "      <td>male</td>\n",
              "      <td>group A</td>\n",
              "      <td>associate's degree</td>\n",
              "      <td>free/reduced</td>\n",
              "      <td>none</td>\n",
              "      <td>47</td>\n",
              "      <td>57</td>\n",
              "      <td>44</td>\n",
              "    </tr>\n",
              "    <tr>\n",
              "      <th>4</th>\n",
              "      <td>male</td>\n",
              "      <td>group C</td>\n",
              "      <td>some college</td>\n",
              "      <td>standard</td>\n",
              "      <td>none</td>\n",
              "      <td>76</td>\n",
              "      <td>78</td>\n",
              "      <td>75</td>\n",
              "    </tr>\n",
              "    <tr>\n",
              "      <th>5</th>\n",
              "      <td>female</td>\n",
              "      <td>group B</td>\n",
              "      <td>associate's degree</td>\n",
              "      <td>standard</td>\n",
              "      <td>none</td>\n",
              "      <td>71</td>\n",
              "      <td>83</td>\n",
              "      <td>78</td>\n",
              "    </tr>\n",
              "    <tr>\n",
              "      <th>7</th>\n",
              "      <td>male</td>\n",
              "      <td>group B</td>\n",
              "      <td>some college</td>\n",
              "      <td>free/reduced</td>\n",
              "      <td>none</td>\n",
              "      <td>40</td>\n",
              "      <td>43</td>\n",
              "      <td>39</td>\n",
              "    </tr>\n",
              "    <tr>\n",
              "      <th>9</th>\n",
              "      <td>female</td>\n",
              "      <td>group B</td>\n",
              "      <td>high school</td>\n",
              "      <td>free/reduced</td>\n",
              "      <td>none</td>\n",
              "      <td>38</td>\n",
              "      <td>60</td>\n",
              "      <td>50</td>\n",
              "    </tr>\n",
              "    <tr>\n",
              "      <th>10</th>\n",
              "      <td>male</td>\n",
              "      <td>group C</td>\n",
              "      <td>associate's degree</td>\n",
              "      <td>standard</td>\n",
              "      <td>none</td>\n",
              "      <td>58</td>\n",
              "      <td>54</td>\n",
              "      <td>52</td>\n",
              "    </tr>\n",
              "    <tr>\n",
              "      <th>11</th>\n",
              "      <td>male</td>\n",
              "      <td>group D</td>\n",
              "      <td>associate's degree</td>\n",
              "      <td>standard</td>\n",
              "      <td>none</td>\n",
              "      <td>40</td>\n",
              "      <td>52</td>\n",
              "      <td>43</td>\n",
              "    </tr>\n",
              "    <tr>\n",
              "      <th>12</th>\n",
              "      <td>female</td>\n",
              "      <td>group B</td>\n",
              "      <td>high school</td>\n",
              "      <td>standard</td>\n",
              "      <td>none</td>\n",
              "      <td>65</td>\n",
              "      <td>81</td>\n",
              "      <td>73</td>\n",
              "    </tr>\n",
              "  </tbody>\n",
              "</table>\n",
              "</div>"
            ],
            "text/plain": [
              "    gender race/ethnicity parental level of education         lunch  \\\n",
              "0   female        group B           bachelor's degree      standard   \n",
              "2   female        group B             master's degree      standard   \n",
              "3     male        group A          associate's degree  free/reduced   \n",
              "4     male        group C                some college      standard   \n",
              "5   female        group B          associate's degree      standard   \n",
              "7     male        group B                some college  free/reduced   \n",
              "9   female        group B                 high school  free/reduced   \n",
              "10    male        group C          associate's degree      standard   \n",
              "11    male        group D          associate's degree      standard   \n",
              "12  female        group B                 high school      standard   \n",
              "\n",
              "   test preparation course  math score  reading score  writing score  \n",
              "0                     none          72             72             74  \n",
              "2                     none          90             95             93  \n",
              "3                     none          47             57             44  \n",
              "4                     none          76             78             75  \n",
              "5                     none          71             83             78  \n",
              "7                     none          40             43             39  \n",
              "9                     none          38             60             50  \n",
              "10                    none          58             54             52  \n",
              "11                    none          40             52             43  \n",
              "12                    none          65             81             73  "
            ]
          },
          "metadata": {
            "tags": []
          },
          "execution_count": 26
        }
      ]
    },
    {
      "metadata": {
        "colab_type": "code",
        "id": "bjm2IYHmHiE8",
        "outputId": "a86be0c5-3bbc-42a4-85ad-b63ac0b24377",
        "colab": {}
      },
      "cell_type": "code",
      "source": [
        "# Check the Top 10 students in  the test preparation score\n",
        "\n",
        "top_10t =df.sort_values([\"test preparation course\"], ascending=[True])[:10]\n",
        "top_10t.sample(2)\n"
      ],
      "execution_count": 0,
      "outputs": [
        {
          "output_type": "execute_result",
          "data": {
            "text/html": [
              "<div>\n",
              "<style scoped>\n",
              "    .dataframe tbody tr th:only-of-type {\n",
              "        vertical-align: middle;\n",
              "    }\n",
              "\n",
              "    .dataframe tbody tr th {\n",
              "        vertical-align: top;\n",
              "    }\n",
              "\n",
              "    .dataframe thead th {\n",
              "        text-align: right;\n",
              "    }\n",
              "</style>\n",
              "<table border=\"1\" class=\"dataframe\">\n",
              "  <thead>\n",
              "    <tr style=\"text-align: right;\">\n",
              "      <th></th>\n",
              "      <th>gender</th>\n",
              "      <th>race/ethnicity</th>\n",
              "      <th>parental level of education</th>\n",
              "      <th>lunch</th>\n",
              "      <th>test preparation course</th>\n",
              "      <th>math score</th>\n",
              "      <th>reading score</th>\n",
              "      <th>writing score</th>\n",
              "      <th>Total_Marks</th>\n",
              "      <th>Percentage</th>\n",
              "    </tr>\n",
              "  </thead>\n",
              "  <tbody>\n",
              "    <tr>\n",
              "      <th>762</th>\n",
              "      <td>male</td>\n",
              "      <td>group D</td>\n",
              "      <td>some high school</td>\n",
              "      <td>standard</td>\n",
              "      <td>completed</td>\n",
              "      <td>78</td>\n",
              "      <td>81</td>\n",
              "      <td>86</td>\n",
              "      <td>245</td>\n",
              "      <td>81.666667</td>\n",
              "    </tr>\n",
              "    <tr>\n",
              "      <th>365</th>\n",
              "      <td>male</td>\n",
              "      <td>group A</td>\n",
              "      <td>bachelor's degree</td>\n",
              "      <td>free/reduced</td>\n",
              "      <td>completed</td>\n",
              "      <td>49</td>\n",
              "      <td>58</td>\n",
              "      <td>60</td>\n",
              "      <td>167</td>\n",
              "      <td>55.666667</td>\n",
              "    </tr>\n",
              "  </tbody>\n",
              "</table>\n",
              "</div>"
            ],
            "text/plain": [
              "    gender race/ethnicity parental level of education         lunch  \\\n",
              "762   male        group D            some high school      standard   \n",
              "365   male        group A           bachelor's degree  free/reduced   \n",
              "\n",
              "    test preparation course  math score  reading score  writing score  \\\n",
              "762               completed          78             81             86   \n",
              "365               completed          49             58             60   \n",
              "\n",
              "     Total_Marks  Percentage  \n",
              "762          245   81.666667  \n",
              "365          167   55.666667  "
            ]
          },
          "metadata": {
            "tags": []
          },
          "execution_count": 33
        }
      ]
    },
    {
      "metadata": {
        "colab_type": "code",
        "id": "nkKoTTYmHiFC",
        "outputId": "b9ad19ba-df62-4ebd-c31e-9b2db78e2de5",
        "colab": {}
      },
      "cell_type": "code",
      "source": [
        "# selecting a Specific Number of Columns from the data set\n",
        "\n",
        "new_col=df[[\"gender\",\"race/ethnicity\",\"parental level of education\",  \"Percentage\", \"Grade\"]]\n",
        "new_col.sample(3)\n"
      ],
      "execution_count": 0,
      "outputs": [
        {
          "output_type": "execute_result",
          "data": {
            "text/html": [
              "<div>\n",
              "<style scoped>\n",
              "    .dataframe tbody tr th:only-of-type {\n",
              "        vertical-align: middle;\n",
              "    }\n",
              "\n",
              "    .dataframe tbody tr th {\n",
              "        vertical-align: top;\n",
              "    }\n",
              "\n",
              "    .dataframe thead th {\n",
              "        text-align: right;\n",
              "    }\n",
              "</style>\n",
              "<table border=\"1\" class=\"dataframe\">\n",
              "  <thead>\n",
              "    <tr style=\"text-align: right;\">\n",
              "      <th></th>\n",
              "      <th>gender</th>\n",
              "      <th>race/ethnicity</th>\n",
              "      <th>parental level of education</th>\n",
              "      <th>Percentage</th>\n",
              "      <th>Grade</th>\n",
              "    </tr>\n",
              "  </thead>\n",
              "  <tbody>\n",
              "    <tr>\n",
              "      <th>122</th>\n",
              "      <td>female</td>\n",
              "      <td>group C</td>\n",
              "      <td>some college</td>\n",
              "      <td>91.333333</td>\n",
              "      <td>Grade A:</td>\n",
              "    </tr>\n",
              "    <tr>\n",
              "      <th>521</th>\n",
              "      <td>female</td>\n",
              "      <td>group C</td>\n",
              "      <td>associate's degree</td>\n",
              "      <td>87.000000</td>\n",
              "      <td>Grade A:</td>\n",
              "    </tr>\n",
              "    <tr>\n",
              "      <th>885</th>\n",
              "      <td>female</td>\n",
              "      <td>group C</td>\n",
              "      <td>associate's degree</td>\n",
              "      <td>72.666667</td>\n",
              "      <td>Grade B:</td>\n",
              "    </tr>\n",
              "  </tbody>\n",
              "</table>\n",
              "</div>"
            ],
            "text/plain": [
              "     gender race/ethnicity parental level of education  Percentage     Grade\n",
              "122  female        group C                some college   91.333333  Grade A:\n",
              "521  female        group C          associate's degree   87.000000  Grade A:\n",
              "885  female        group C          associate's degree   72.666667  Grade B:"
            ]
          },
          "metadata": {
            "tags": []
          },
          "execution_count": 75
        }
      ]
    },
    {
      "metadata": {
        "colab_type": "text",
        "id": "0Tl78bn5HiFJ"
      },
      "cell_type": "markdown",
      "source": [
        "### Students Perfomance Analysis per Subject"
      ]
    },
    {
      "metadata": {
        "colab_type": "code",
        "id": "mdEYVGwgHiFL",
        "outputId": "a9b5f6e0-385b-4897-b880-01925155f916",
        "colab": {}
      },
      "cell_type": "code",
      "source": [
        "# How many students passed in Mathematics Examination ?\n",
        "\n",
        "df['Math_PassStatus'] = np.where(df['math score']<passmark, 'Failed', 'Passed')\n",
        "df.Math_PassStatus.value_counts()"
      ],
      "execution_count": 0,
      "outputs": [
        {
          "output_type": "execute_result",
          "data": {
            "text/plain": [
              "Passed    960\n",
              "Fail       40\n",
              "Name: Math_PassStatus, dtype: int64"
            ]
          },
          "metadata": {
            "tags": []
          },
          "execution_count": 37
        }
      ]
    },
    {
      "metadata": {
        "colab_type": "code",
        "id": "NXU8VlTpHiFV",
        "outputId": "eab8bb99-71c5-499e-bcc6-4f2f7ff346f1",
        "colab": {}
      },
      "cell_type": "code",
      "source": [
        "#  Seaborn Countplot Visualization\n",
        "\n",
        "p = sns.countplot(x='parental level of education', data = df, hue='Math_PassStatus', palette='bright')\n",
        "_ = plt.setp(p.get_xticklabels(), rotation=90)"
      ],
      "execution_count": 0,
      "outputs": [
        {
          "output_type": "display_data",
          "data": {
            "image/png": "[encoded data removed]",
            "text/plain": [
              "<Figure size 432x288 with 1 Axes>"
            ]
          },
          "metadata": {
            "tags": [],
            "needs_background": "light"
          }
        }
      ]
    },
    {
      "metadata": {
        "colab_type": "code",
        "id": "vKO9YAGjHiFm",
        "outputId": "87be06ad-890a-4275-ad63-0a104e99121c",
        "colab": {}
      },
      "cell_type": "code",
      "source": [
        "# How many studends passed in the Reading Test ?\n",
        "\n",
        "df['Reading_PassStatus'] = np.where(df['reading score']<passmark, 'Failed', 'Passed')\n",
        "df.Reading_PassStatus.value_counts()"
      ],
      "execution_count": 0,
      "outputs": [
        {
          "output_type": "execute_result",
          "data": {
            "text/plain": [
              "Passed    974\n",
              "Failed     26\n",
              "Name: Reading_PassStatus, dtype: int64"
            ]
          },
          "metadata": {
            "tags": []
          },
          "execution_count": 43
        }
      ]
    },
    {
      "metadata": {
        "colab_type": "code",
        "id": "IDZbJgl_HiFr",
        "outputId": "4df8d355-b5e4-45a0-f17a-6aa98fdb1167",
        "colab": {}
      },
      "cell_type": "code",
      "source": [
        "#  Seaborn Countplot Visualization\n",
        "\n",
        "p = sns.countplot(x='parental level of education', data = df, hue='Reading_PassStatus', palette='bright')\n",
        "_ = plt.setp(p.get_xticklabels(), rotation=90) "
      ],
      "execution_count": 0,
      "outputs": [
        {
          "output_type": "display_data",
          "data": {
            "image/png": "[encoded data removed]",
            "text/plain": [
              "<Figure size 432x288 with 1 Axes>"
            ]
          },
          "metadata": {
            "tags": [],
            "needs_background": "light"
          }
        }
      ]
    },
    {
      "metadata": {
        "colab_type": "code",
        "id": "vCfvVFE9HiFv",
        "outputId": "32a2a301-fb34-4914-fcee-acedc1e9d4d6",
        "colab": {}
      },
      "cell_type": "code",
      "source": [
        "  # How many students passed Writing Test ?\n",
        "    \n",
        "df['Writing_PassStatus'] = np.where(df['writing score']<passmark, 'Failed', 'Passed')\n",
        "df.Writing_PassStatus.value_counts()"
      ],
      "execution_count": 0,
      "outputs": [
        {
          "output_type": "execute_result",
          "data": {
            "text/plain": [
              "Passed    968\n",
              "Failed     32\n",
              "Name: Writing_PassStatus, dtype: int64"
            ]
          },
          "metadata": {
            "tags": []
          },
          "execution_count": 45
        }
      ]
    },
    {
      "metadata": {
        "colab_type": "code",
        "id": "T_bZ2wXhHiFy",
        "outputId": "601c4095-7c16-4f62-8fa8-66d8b24aa1f3",
        "colab": {}
      },
      "cell_type": "code",
      "source": [
        "#  Seaborn Countplot Visualization\n",
        "\n",
        "p = sns.countplot(x='parental level of education', data = df, hue='Writing_PassStatus', palette='bright')\n",
        "_ = plt.setp(p.get_xticklabels(), rotation=90) "
      ],
      "execution_count": 0,
      "outputs": [
        {
          "output_type": "display_data",
          "data": {
            "image/png": "[encoded data removed]",
            "text/plain": [
              "<Figure size 432x288 with 1 Axes>"
            ]
          },
          "metadata": {
            "tags": [],
            "needs_background": "light"
          }
        }
      ]
    },
    {
      "metadata": {
        "colab_type": "text",
        "id": "HNGFHb9nHiF2"
      },
      "cell_type": "markdown",
      "source": [
        "### Students' Performance in alll the subjects"
      ]
    },
    {
      "metadata": {
        "colab_type": "code",
        "id": "3uBI-2HIHiF5",
        "outputId": "02a53706-e285-4b03-8349-5af6da639a4d",
        "colab": {}
      },
      "cell_type": "code",
      "source": [
        "# Iet us check \"How many students passed in all the subjects ?\"\n",
        "\n",
        "df['OverAll_PassStatus'] = df.apply(lambda x : 'Failed' if x['Math_PassStatus'] == 'Failed' or \n",
        "                                    x['Reading_PassStatus'] == 'Failed' or x['Writing_PassStatus'] == 'Failed' else 'Passed', axis =1)\n",
        "\n",
        "df.OverAll_PassStatus.value_counts()    "
      ],
      "execution_count": 0,
      "outputs": [
        {
          "output_type": "error",
          "ename": "KeyError",
          "evalue": "('Math_PassStatus', 'occurred at index 0')",
          "traceback": [
            "\u001b[1;31m---------------------------------------------------------------------------\u001b[0m",
            "\u001b[1;31mTypeError\u001b[0m                                 Traceback (most recent call last)",
            "\u001b[1;32mC:\\ProgramData\\Anaconda3\\lib\\site-packages\\pandas\\core\\indexes\\base.py\u001b[0m in \u001b[0;36mget_value\u001b[1;34m(self, series, key)\u001b[0m\n\u001b[0;32m   3123\u001b[0m             \u001b[1;32mtry\u001b[0m\u001b[1;33m:\u001b[0m\u001b[1;33m\u001b[0m\u001b[1;33m\u001b[0m\u001b[0m\n\u001b[1;32m-> 3124\u001b[1;33m                 \u001b[1;32mreturn\u001b[0m \u001b[0mlibindex\u001b[0m\u001b[1;33m.\u001b[0m\u001b[0mget_value_box\u001b[0m\u001b[1;33m(\u001b[0m\u001b[0ms\u001b[0m\u001b[1;33m,\u001b[0m \u001b[0mkey\u001b[0m\u001b[1;33m)\u001b[0m\u001b[1;33m\u001b[0m\u001b[1;33m\u001b[0m\u001b[0m\n\u001b[0m\u001b[0;32m   3125\u001b[0m             \u001b[1;32mexcept\u001b[0m \u001b[0mIndexError\u001b[0m\u001b[1;33m:\u001b[0m\u001b[1;33m\u001b[0m\u001b[1;33m\u001b[0m\u001b[0m\n",
            "\u001b[1;32mpandas\\_libs\\index.pyx\u001b[0m in \u001b[0;36mpandas._libs.index.get_value_box\u001b[1;34m()\u001b[0m\n",
            "\u001b[1;32mpandas\\_libs\\index.pyx\u001b[0m in \u001b[0;36mpandas._libs.index.get_value_box\u001b[1;34m()\u001b[0m\n",
            "\u001b[1;31mTypeError\u001b[0m: 'str' object cannot be interpreted as an integer",
            "\nDuring handling of the above exception, another exception occurred:\n",
            "\u001b[1;31mKeyError\u001b[0m                                  Traceback (most recent call last)",
            "\u001b[1;32m<ipython-input-8-6df2842e1005>\u001b[0m in \u001b[0;36m<module>\u001b[1;34m\u001b[0m\n\u001b[0;32m      2\u001b[0m \u001b[1;33m\u001b[0m\u001b[0m\n\u001b[0;32m      3\u001b[0m df['OverAll_PassStatus'] = df.apply(lambda x : 'Failed' if x['Math_PassStatus'] == 'Failed' or \n\u001b[1;32m----> 4\u001b[1;33m                                     x['Reading_PassStatus'] == 'Failed' or x['Writing_PassStatus'] == 'Failed' else 'Passed', axis =1)\n\u001b[0m\u001b[0;32m      5\u001b[0m \u001b[1;33m\u001b[0m\u001b[0m\n\u001b[0;32m      6\u001b[0m \u001b[0mdf\u001b[0m\u001b[1;33m.\u001b[0m\u001b[0mOverAll_PassStatus\u001b[0m\u001b[1;33m.\u001b[0m\u001b[0mvalue_counts\u001b[0m\u001b[1;33m(\u001b[0m\u001b[1;33m)\u001b[0m\u001b[1;33m\u001b[0m\u001b[1;33m\u001b[0m\u001b[0m\n",
            "\u001b[1;32mC:\\ProgramData\\Anaconda3\\lib\\site-packages\\pandas\\core\\frame.py\u001b[0m in \u001b[0;36mapply\u001b[1;34m(self, func, axis, broadcast, raw, reduce, result_type, args, **kwds)\u001b[0m\n\u001b[0;32m   6012\u001b[0m                          \u001b[0margs\u001b[0m\u001b[1;33m=\u001b[0m\u001b[0margs\u001b[0m\u001b[1;33m,\u001b[0m\u001b[1;33m\u001b[0m\u001b[1;33m\u001b[0m\u001b[0m\n\u001b[0;32m   6013\u001b[0m                          kwds=kwds)\n\u001b[1;32m-> 6014\u001b[1;33m         \u001b[1;32mreturn\u001b[0m \u001b[0mop\u001b[0m\u001b[1;33m.\u001b[0m\u001b[0mget_result\u001b[0m\u001b[1;33m(\u001b[0m\u001b[1;33m)\u001b[0m\u001b[1;33m\u001b[0m\u001b[1;33m\u001b[0m\u001b[0m\n\u001b[0m\u001b[0;32m   6015\u001b[0m \u001b[1;33m\u001b[0m\u001b[0m\n\u001b[0;32m   6016\u001b[0m     \u001b[1;32mdef\u001b[0m \u001b[0mapplymap\u001b[0m\u001b[1;33m(\u001b[0m\u001b[0mself\u001b[0m\u001b[1;33m,\u001b[0m \u001b[0mfunc\u001b[0m\u001b[1;33m)\u001b[0m\u001b[1;33m:\u001b[0m\u001b[1;33m\u001b[0m\u001b[1;33m\u001b[0m\u001b[0m\n",
            "\u001b[1;32mC:\\ProgramData\\Anaconda3\\lib\\site-packages\\pandas\\core\\apply.py\u001b[0m in \u001b[0;36mget_result\u001b[1;34m(self)\u001b[0m\n\u001b[0;32m    140\u001b[0m             \u001b[1;32mreturn\u001b[0m \u001b[0mself\u001b[0m\u001b[1;33m.\u001b[0m\u001b[0mapply_raw\u001b[0m\u001b[1;33m(\u001b[0m\u001b[1;33m)\u001b[0m\u001b[1;33m\u001b[0m\u001b[1;33m\u001b[0m\u001b[0m\n\u001b[0;32m    141\u001b[0m \u001b[1;33m\u001b[0m\u001b[0m\n\u001b[1;32m--> 142\u001b[1;33m         \u001b[1;32mreturn\u001b[0m \u001b[0mself\u001b[0m\u001b[1;33m.\u001b[0m\u001b[0mapply_standard\u001b[0m\u001b[1;33m(\u001b[0m\u001b[1;33m)\u001b[0m\u001b[1;33m\u001b[0m\u001b[1;33m\u001b[0m\u001b[0m\n\u001b[0m\u001b[0;32m    143\u001b[0m \u001b[1;33m\u001b[0m\u001b[0m\n\u001b[0;32m    144\u001b[0m     \u001b[1;32mdef\u001b[0m \u001b[0mapply_empty_result\u001b[0m\u001b[1;33m(\u001b[0m\u001b[0mself\u001b[0m\u001b[1;33m)\u001b[0m\u001b[1;33m:\u001b[0m\u001b[1;33m\u001b[0m\u001b[1;33m\u001b[0m\u001b[0m\n",
            "\u001b[1;32mC:\\ProgramData\\Anaconda3\\lib\\site-packages\\pandas\\core\\apply.py\u001b[0m in \u001b[0;36mapply_standard\u001b[1;34m(self)\u001b[0m\n\u001b[0;32m    246\u001b[0m \u001b[1;33m\u001b[0m\u001b[0m\n\u001b[0;32m    247\u001b[0m         \u001b[1;31m# compute the result using the series generator\u001b[0m\u001b[1;33m\u001b[0m\u001b[1;33m\u001b[0m\u001b[1;33m\u001b[0m\u001b[0m\n\u001b[1;32m--> 248\u001b[1;33m         \u001b[0mself\u001b[0m\u001b[1;33m.\u001b[0m\u001b[0mapply_series_generator\u001b[0m\u001b[1;33m(\u001b[0m\u001b[1;33m)\u001b[0m\u001b[1;33m\u001b[0m\u001b[1;33m\u001b[0m\u001b[0m\n\u001b[0m\u001b[0;32m    249\u001b[0m \u001b[1;33m\u001b[0m\u001b[0m\n\u001b[0;32m    250\u001b[0m         \u001b[1;31m# wrap results\u001b[0m\u001b[1;33m\u001b[0m\u001b[1;33m\u001b[0m\u001b[1;33m\u001b[0m\u001b[0m\n",
            "\u001b[1;32mC:\\ProgramData\\Anaconda3\\lib\\site-packages\\pandas\\core\\apply.py\u001b[0m in \u001b[0;36mapply_series_generator\u001b[1;34m(self)\u001b[0m\n\u001b[0;32m    275\u001b[0m             \u001b[1;32mtry\u001b[0m\u001b[1;33m:\u001b[0m\u001b[1;33m\u001b[0m\u001b[1;33m\u001b[0m\u001b[0m\n\u001b[0;32m    276\u001b[0m                 \u001b[1;32mfor\u001b[0m \u001b[0mi\u001b[0m\u001b[1;33m,\u001b[0m \u001b[0mv\u001b[0m \u001b[1;32min\u001b[0m \u001b[0menumerate\u001b[0m\u001b[1;33m(\u001b[0m\u001b[0mseries_gen\u001b[0m\u001b[1;33m)\u001b[0m\u001b[1;33m:\u001b[0m\u001b[1;33m\u001b[0m\u001b[1;33m\u001b[0m\u001b[0m\n\u001b[1;32m--> 277\u001b[1;33m                     \u001b[0mresults\u001b[0m\u001b[1;33m[\u001b[0m\u001b[0mi\u001b[0m\u001b[1;33m]\u001b[0m \u001b[1;33m=\u001b[0m \u001b[0mself\u001b[0m\u001b[1;33m.\u001b[0m\u001b[0mf\u001b[0m\u001b[1;33m(\u001b[0m\u001b[0mv\u001b[0m\u001b[1;33m)\u001b[0m\u001b[1;33m\u001b[0m\u001b[1;33m\u001b[0m\u001b[0m\n\u001b[0m\u001b[0;32m    278\u001b[0m                     \u001b[0mkeys\u001b[0m\u001b[1;33m.\u001b[0m\u001b[0mappend\u001b[0m\u001b[1;33m(\u001b[0m\u001b[0mv\u001b[0m\u001b[1;33m.\u001b[0m\u001b[0mname\u001b[0m\u001b[1;33m)\u001b[0m\u001b[1;33m\u001b[0m\u001b[1;33m\u001b[0m\u001b[0m\n\u001b[0;32m    279\u001b[0m             \u001b[1;32mexcept\u001b[0m \u001b[0mException\u001b[0m \u001b[1;32mas\u001b[0m \u001b[0me\u001b[0m\u001b[1;33m:\u001b[0m\u001b[1;33m\u001b[0m\u001b[1;33m\u001b[0m\u001b[0m\n",
            "\u001b[1;32m<ipython-input-8-6df2842e1005>\u001b[0m in \u001b[0;36m<lambda>\u001b[1;34m(x)\u001b[0m\n\u001b[0;32m      1\u001b[0m \u001b[1;31m# Iet us check \"How many students passed in all the subjects ?\"\u001b[0m\u001b[1;33m\u001b[0m\u001b[1;33m\u001b[0m\u001b[1;33m\u001b[0m\u001b[0m\n\u001b[0;32m      2\u001b[0m \u001b[1;33m\u001b[0m\u001b[0m\n\u001b[1;32m----> 3\u001b[1;33m df['OverAll_PassStatus'] = df.apply(lambda x : 'Failed' if x['Math_PassStatus'] == 'Failed' or \n\u001b[0m\u001b[0;32m      4\u001b[0m                                     x['Reading_PassStatus'] == 'Failed' or x['Writing_PassStatus'] == 'Failed' else 'Passed', axis =1)\n\u001b[0;32m      5\u001b[0m \u001b[1;33m\u001b[0m\u001b[0m\n",
            "\u001b[1;32mC:\\ProgramData\\Anaconda3\\lib\\site-packages\\pandas\\core\\series.py\u001b[0m in \u001b[0;36m__getitem__\u001b[1;34m(self, key)\u001b[0m\n\u001b[0;32m    765\u001b[0m         \u001b[0mkey\u001b[0m \u001b[1;33m=\u001b[0m \u001b[0mcom\u001b[0m\u001b[1;33m.\u001b[0m\u001b[0m_apply_if_callable\u001b[0m\u001b[1;33m(\u001b[0m\u001b[0mkey\u001b[0m\u001b[1;33m,\u001b[0m \u001b[0mself\u001b[0m\u001b[1;33m)\u001b[0m\u001b[1;33m\u001b[0m\u001b[1;33m\u001b[0m\u001b[0m\n\u001b[0;32m    766\u001b[0m         \u001b[1;32mtry\u001b[0m\u001b[1;33m:\u001b[0m\u001b[1;33m\u001b[0m\u001b[1;33m\u001b[0m\u001b[0m\n\u001b[1;32m--> 767\u001b[1;33m             \u001b[0mresult\u001b[0m \u001b[1;33m=\u001b[0m \u001b[0mself\u001b[0m\u001b[1;33m.\u001b[0m\u001b[0mindex\u001b[0m\u001b[1;33m.\u001b[0m\u001b[0mget_value\u001b[0m\u001b[1;33m(\u001b[0m\u001b[0mself\u001b[0m\u001b[1;33m,\u001b[0m \u001b[0mkey\u001b[0m\u001b[1;33m)\u001b[0m\u001b[1;33m\u001b[0m\u001b[1;33m\u001b[0m\u001b[0m\n\u001b[0m\u001b[0;32m    768\u001b[0m \u001b[1;33m\u001b[0m\u001b[0m\n\u001b[0;32m    769\u001b[0m             \u001b[1;32mif\u001b[0m \u001b[1;32mnot\u001b[0m \u001b[0mis_scalar\u001b[0m\u001b[1;33m(\u001b[0m\u001b[0mresult\u001b[0m\u001b[1;33m)\u001b[0m\u001b[1;33m:\u001b[0m\u001b[1;33m\u001b[0m\u001b[1;33m\u001b[0m\u001b[0m\n",
            "\u001b[1;32mC:\\ProgramData\\Anaconda3\\lib\\site-packages\\pandas\\core\\indexes\\base.py\u001b[0m in \u001b[0;36mget_value\u001b[1;34m(self, series, key)\u001b[0m\n\u001b[0;32m   3130\u001b[0m                     \u001b[1;32mraise\u001b[0m \u001b[0mInvalidIndexError\u001b[0m\u001b[1;33m(\u001b[0m\u001b[0mkey\u001b[0m\u001b[1;33m)\u001b[0m\u001b[1;33m\u001b[0m\u001b[1;33m\u001b[0m\u001b[0m\n\u001b[0;32m   3131\u001b[0m                 \u001b[1;32melse\u001b[0m\u001b[1;33m:\u001b[0m\u001b[1;33m\u001b[0m\u001b[1;33m\u001b[0m\u001b[0m\n\u001b[1;32m-> 3132\u001b[1;33m                     \u001b[1;32mraise\u001b[0m \u001b[0me1\u001b[0m\u001b[1;33m\u001b[0m\u001b[1;33m\u001b[0m\u001b[0m\n\u001b[0m\u001b[0;32m   3133\u001b[0m             \u001b[1;32mexcept\u001b[0m \u001b[0mException\u001b[0m\u001b[1;33m:\u001b[0m  \u001b[1;31m# pragma: no cover\u001b[0m\u001b[1;33m\u001b[0m\u001b[1;33m\u001b[0m\u001b[0m\n\u001b[0;32m   3134\u001b[0m                 \u001b[1;32mraise\u001b[0m \u001b[0me1\u001b[0m\u001b[1;33m\u001b[0m\u001b[1;33m\u001b[0m\u001b[0m\n",
            "\u001b[1;32mC:\\ProgramData\\Anaconda3\\lib\\site-packages\\pandas\\core\\indexes\\base.py\u001b[0m in \u001b[0;36mget_value\u001b[1;34m(self, series, key)\u001b[0m\n\u001b[0;32m   3116\u001b[0m         \u001b[1;32mtry\u001b[0m\u001b[1;33m:\u001b[0m\u001b[1;33m\u001b[0m\u001b[1;33m\u001b[0m\u001b[0m\n\u001b[0;32m   3117\u001b[0m             return self._engine.get_value(s, k,\n\u001b[1;32m-> 3118\u001b[1;33m                                           tz=getattr(series.dtype, 'tz', None))\n\u001b[0m\u001b[0;32m   3119\u001b[0m         \u001b[1;32mexcept\u001b[0m \u001b[0mKeyError\u001b[0m \u001b[1;32mas\u001b[0m \u001b[0me1\u001b[0m\u001b[1;33m:\u001b[0m\u001b[1;33m\u001b[0m\u001b[1;33m\u001b[0m\u001b[0m\n\u001b[0;32m   3120\u001b[0m             \u001b[1;32mif\u001b[0m \u001b[0mlen\u001b[0m\u001b[1;33m(\u001b[0m\u001b[0mself\u001b[0m\u001b[1;33m)\u001b[0m \u001b[1;33m>\u001b[0m \u001b[1;36m0\u001b[0m \u001b[1;32mand\u001b[0m \u001b[0mself\u001b[0m\u001b[1;33m.\u001b[0m\u001b[0minferred_type\u001b[0m \u001b[1;32min\u001b[0m \u001b[1;33m[\u001b[0m\u001b[1;34m'integer'\u001b[0m\u001b[1;33m,\u001b[0m \u001b[1;34m'boolean'\u001b[0m\u001b[1;33m]\u001b[0m\u001b[1;33m:\u001b[0m\u001b[1;33m\u001b[0m\u001b[1;33m\u001b[0m\u001b[0m\n",
            "\u001b[1;32mpandas\\_libs\\index.pyx\u001b[0m in \u001b[0;36mpandas._libs.index.IndexEngine.get_value\u001b[1;34m()\u001b[0m\n",
            "\u001b[1;32mpandas\\_libs\\index.pyx\u001b[0m in \u001b[0;36mpandas._libs.index.IndexEngine.get_value\u001b[1;34m()\u001b[0m\n",
            "\u001b[1;32mpandas\\_libs\\index.pyx\u001b[0m in \u001b[0;36mpandas._libs.index.IndexEngine.get_loc\u001b[1;34m()\u001b[0m\n",
            "\u001b[1;32mpandas\\_libs\\hashtable_class_helper.pxi\u001b[0m in \u001b[0;36mpandas._libs.hashtable.PyObjectHashTable.get_item\u001b[1;34m()\u001b[0m\n",
            "\u001b[1;32mpandas\\_libs\\hashtable_class_helper.pxi\u001b[0m in \u001b[0;36mpandas._libs.hashtable.PyObjectHashTable.get_item\u001b[1;34m()\u001b[0m\n",
            "\u001b[1;31mKeyError\u001b[0m: ('Math_PassStatus', 'occurred at index 0')"
          ]
        }
      ]
    },
    {
      "metadata": {
        "colab_type": "code",
        "id": "GFLQ_QI6HiGA",
        "outputId": "921b4dba-25da-47dc-89ec-80400fe7f432",
        "colab": {}
      },
      "cell_type": "code",
      "source": [
        "#  Seaborn Countplot Visualization\n",
        "\n",
        "p = sns.countplot(x='parental level of education', data = df, hue='OverAll_PassStatus', palette='bright')\n",
        "_ = plt.setp(p.get_xticklabels(), rotation=90)"
      ],
      "execution_count": 0,
      "outputs": [
        {
          "output_type": "error",
          "ename": "ValueError",
          "evalue": "Could not interpret input 'OverAll_PassStatus'",
          "traceback": [
            "\u001b[1;31m---------------------------------------------------------------------------\u001b[0m",
            "\u001b[1;31mValueError\u001b[0m                                Traceback (most recent call last)",
            "\u001b[1;32m<ipython-input-7-59ea86a4f477>\u001b[0m in \u001b[0;36m<module>\u001b[1;34m\u001b[0m\n\u001b[0;32m      1\u001b[0m \u001b[1;31m#  Seaborn Countplot Visualization\u001b[0m\u001b[1;33m\u001b[0m\u001b[1;33m\u001b[0m\u001b[1;33m\u001b[0m\u001b[0m\n\u001b[0;32m      2\u001b[0m \u001b[1;33m\u001b[0m\u001b[0m\n\u001b[1;32m----> 3\u001b[1;33m \u001b[0mp\u001b[0m \u001b[1;33m=\u001b[0m \u001b[0msns\u001b[0m\u001b[1;33m.\u001b[0m\u001b[0mcountplot\u001b[0m\u001b[1;33m(\u001b[0m\u001b[0mx\u001b[0m\u001b[1;33m=\u001b[0m\u001b[1;34m'parental level of education'\u001b[0m\u001b[1;33m,\u001b[0m \u001b[0mdata\u001b[0m \u001b[1;33m=\u001b[0m \u001b[0mdf\u001b[0m\u001b[1;33m,\u001b[0m \u001b[0mhue\u001b[0m\u001b[1;33m=\u001b[0m\u001b[1;34m'OverAll_PassStatus'\u001b[0m\u001b[1;33m,\u001b[0m \u001b[0mpalette\u001b[0m\u001b[1;33m=\u001b[0m\u001b[1;34m'bright'\u001b[0m\u001b[1;33m)\u001b[0m\u001b[1;33m\u001b[0m\u001b[1;33m\u001b[0m\u001b[0m\n\u001b[0m\u001b[0;32m      4\u001b[0m \u001b[0m_\u001b[0m \u001b[1;33m=\u001b[0m \u001b[0mplt\u001b[0m\u001b[1;33m.\u001b[0m\u001b[0msetp\u001b[0m\u001b[1;33m(\u001b[0m\u001b[0mp\u001b[0m\u001b[1;33m.\u001b[0m\u001b[0mget_xticklabels\u001b[0m\u001b[1;33m(\u001b[0m\u001b[1;33m)\u001b[0m\u001b[1;33m,\u001b[0m \u001b[0mrotation\u001b[0m\u001b[1;33m=\u001b[0m\u001b[1;36m90\u001b[0m\u001b[1;33m)\u001b[0m\u001b[1;33m\u001b[0m\u001b[1;33m\u001b[0m\u001b[0m\n",
            "\u001b[1;32mC:\\ProgramData\\Anaconda3\\lib\\site-packages\\seaborn\\categorical.py\u001b[0m in \u001b[0;36mcountplot\u001b[1;34m(x, y, hue, data, order, hue_order, orient, color, palette, saturation, dodge, ax, **kwargs)\u001b[0m\n\u001b[0;32m   3551\u001b[0m                           \u001b[0mestimator\u001b[0m\u001b[1;33m,\u001b[0m \u001b[0mci\u001b[0m\u001b[1;33m,\u001b[0m \u001b[0mn_boot\u001b[0m\u001b[1;33m,\u001b[0m \u001b[0munits\u001b[0m\u001b[1;33m,\u001b[0m\u001b[1;33m\u001b[0m\u001b[1;33m\u001b[0m\u001b[0m\n\u001b[0;32m   3552\u001b[0m                           \u001b[0morient\u001b[0m\u001b[1;33m,\u001b[0m \u001b[0mcolor\u001b[0m\u001b[1;33m,\u001b[0m \u001b[0mpalette\u001b[0m\u001b[1;33m,\u001b[0m \u001b[0msaturation\u001b[0m\u001b[1;33m,\u001b[0m\u001b[1;33m\u001b[0m\u001b[1;33m\u001b[0m\u001b[0m\n\u001b[1;32m-> 3553\u001b[1;33m                           errcolor, errwidth, capsize, dodge)\n\u001b[0m\u001b[0;32m   3554\u001b[0m \u001b[1;33m\u001b[0m\u001b[0m\n\u001b[0;32m   3555\u001b[0m     \u001b[0mplotter\u001b[0m\u001b[1;33m.\u001b[0m\u001b[0mvalue_label\u001b[0m \u001b[1;33m=\u001b[0m \u001b[1;34m\"count\"\u001b[0m\u001b[1;33m\u001b[0m\u001b[1;33m\u001b[0m\u001b[0m\n",
            "\u001b[1;32mC:\\ProgramData\\Anaconda3\\lib\\site-packages\\seaborn\\categorical.py\u001b[0m in \u001b[0;36m__init__\u001b[1;34m(self, x, y, hue, data, order, hue_order, estimator, ci, n_boot, units, orient, color, palette, saturation, errcolor, errwidth, capsize, dodge)\u001b[0m\n\u001b[0;32m   1605\u001b[0m         \u001b[1;34m\"\"\"Initialize the plotter.\"\"\"\u001b[0m\u001b[1;33m\u001b[0m\u001b[1;33m\u001b[0m\u001b[0m\n\u001b[0;32m   1606\u001b[0m         self.establish_variables(x, y, hue, data, orient,\n\u001b[1;32m-> 1607\u001b[1;33m                                  order, hue_order, units)\n\u001b[0m\u001b[0;32m   1608\u001b[0m         \u001b[0mself\u001b[0m\u001b[1;33m.\u001b[0m\u001b[0mestablish_colors\u001b[0m\u001b[1;33m(\u001b[0m\u001b[0mcolor\u001b[0m\u001b[1;33m,\u001b[0m \u001b[0mpalette\u001b[0m\u001b[1;33m,\u001b[0m \u001b[0msaturation\u001b[0m\u001b[1;33m)\u001b[0m\u001b[1;33m\u001b[0m\u001b[1;33m\u001b[0m\u001b[0m\n\u001b[0;32m   1609\u001b[0m         \u001b[0mself\u001b[0m\u001b[1;33m.\u001b[0m\u001b[0mestimate_statistic\u001b[0m\u001b[1;33m(\u001b[0m\u001b[0mestimator\u001b[0m\u001b[1;33m,\u001b[0m \u001b[0mci\u001b[0m\u001b[1;33m,\u001b[0m \u001b[0mn_boot\u001b[0m\u001b[1;33m)\u001b[0m\u001b[1;33m\u001b[0m\u001b[1;33m\u001b[0m\u001b[0m\n",
            "\u001b[1;32mC:\\ProgramData\\Anaconda3\\lib\\site-packages\\seaborn\\categorical.py\u001b[0m in \u001b[0;36mestablish_variables\u001b[1;34m(self, x, y, hue, data, orient, order, hue_order, units)\u001b[0m\n\u001b[0;32m    153\u001b[0m                 \u001b[1;32mif\u001b[0m \u001b[0misinstance\u001b[0m\u001b[1;33m(\u001b[0m\u001b[0minput\u001b[0m\u001b[1;33m,\u001b[0m \u001b[0mstring_types\u001b[0m\u001b[1;33m)\u001b[0m\u001b[1;33m:\u001b[0m\u001b[1;33m\u001b[0m\u001b[1;33m\u001b[0m\u001b[0m\n\u001b[0;32m    154\u001b[0m                     \u001b[0merr\u001b[0m \u001b[1;33m=\u001b[0m \u001b[1;34m\"Could not interpret input '{}'\"\u001b[0m\u001b[1;33m.\u001b[0m\u001b[0mformat\u001b[0m\u001b[1;33m(\u001b[0m\u001b[0minput\u001b[0m\u001b[1;33m)\u001b[0m\u001b[1;33m\u001b[0m\u001b[1;33m\u001b[0m\u001b[0m\n\u001b[1;32m--> 155\u001b[1;33m                     \u001b[1;32mraise\u001b[0m \u001b[0mValueError\u001b[0m\u001b[1;33m(\u001b[0m\u001b[0merr\u001b[0m\u001b[1;33m)\u001b[0m\u001b[1;33m\u001b[0m\u001b[1;33m\u001b[0m\u001b[0m\n\u001b[0m\u001b[0;32m    156\u001b[0m \u001b[1;33m\u001b[0m\u001b[0m\n\u001b[0;32m    157\u001b[0m             \u001b[1;31m# Figure out the plotting orientation\u001b[0m\u001b[1;33m\u001b[0m\u001b[1;33m\u001b[0m\u001b[1;33m\u001b[0m\u001b[0m\n",
            "\u001b[1;31mValueError\u001b[0m: Could not interpret input 'OverAll_PassStatus'"
          ]
        }
      ]
    },
    {
      "metadata": {
        "colab_type": "code",
        "id": "XNAm5IddHiGF",
        "outputId": "2b4a7cb0-9a4b-47c7-806e-cb2eca99a4fc",
        "colab": {}
      },
      "cell_type": "code",
      "source": [
        "# Find the Total Marks Per Student then display  sample data for two students\n",
        "\n",
        "df[\"Total_Marks\"]=df[\"math score\"]+df[\"reading score\"]+df[\"writing score\"]\n",
        "df.head(2)"
      ],
      "execution_count": 0,
      "outputs": [
        {
          "output_type": "execute_result",
          "data": {
            "text/html": [
              "<div>\n",
              "<style scoped>\n",
              "    .dataframe tbody tr th:only-of-type {\n",
              "        vertical-align: middle;\n",
              "    }\n",
              "\n",
              "    .dataframe tbody tr th {\n",
              "        vertical-align: top;\n",
              "    }\n",
              "\n",
              "    .dataframe thead th {\n",
              "        text-align: right;\n",
              "    }\n",
              "</style>\n",
              "<table border=\"1\" class=\"dataframe\">\n",
              "  <thead>\n",
              "    <tr style=\"text-align: right;\">\n",
              "      <th></th>\n",
              "      <th>gender</th>\n",
              "      <th>race/ethnicity</th>\n",
              "      <th>parental level of education</th>\n",
              "      <th>lunch</th>\n",
              "      <th>test preparation course</th>\n",
              "      <th>math score</th>\n",
              "      <th>reading score</th>\n",
              "      <th>writing score</th>\n",
              "      <th>Total_Marks</th>\n",
              "      <th>Percentage</th>\n",
              "      <th>Math_PassStatus</th>\n",
              "      <th>Reading_PassStatus</th>\n",
              "      <th>Writing_PassStatus</th>\n",
              "      <th>OverAll_PassStatus</th>\n",
              "    </tr>\n",
              "  </thead>\n",
              "  <tbody>\n",
              "    <tr>\n",
              "      <th>0</th>\n",
              "      <td>female</td>\n",
              "      <td>group B</td>\n",
              "      <td>bachelor's degree</td>\n",
              "      <td>standard</td>\n",
              "      <td>none</td>\n",
              "      <td>72</td>\n",
              "      <td>72</td>\n",
              "      <td>74</td>\n",
              "      <td>218</td>\n",
              "      <td>72.666667</td>\n",
              "      <td>Passed</td>\n",
              "      <td>Passed</td>\n",
              "      <td>Passed</td>\n",
              "      <td>Passed</td>\n",
              "    </tr>\n",
              "    <tr>\n",
              "      <th>1</th>\n",
              "      <td>female</td>\n",
              "      <td>group C</td>\n",
              "      <td>some college</td>\n",
              "      <td>standard</td>\n",
              "      <td>completed</td>\n",
              "      <td>69</td>\n",
              "      <td>90</td>\n",
              "      <td>88</td>\n",
              "      <td>247</td>\n",
              "      <td>82.333333</td>\n",
              "      <td>Passed</td>\n",
              "      <td>Passed</td>\n",
              "      <td>Passed</td>\n",
              "      <td>Passed</td>\n",
              "    </tr>\n",
              "  </tbody>\n",
              "</table>\n",
              "</div>"
            ],
            "text/plain": [
              "   gender race/ethnicity parental level of education     lunch  \\\n",
              "0  female        group B           bachelor's degree  standard   \n",
              "1  female        group C                some college  standard   \n",
              "\n",
              "  test preparation course  math score  reading score  writing score  \\\n",
              "0                    none          72             72             74   \n",
              "1               completed          69             90             88   \n",
              "\n",
              "   Total_Marks  Percentage Math_PassStatus Reading_PassStatus  \\\n",
              "0          218   72.666667          Passed             Passed   \n",
              "1          247   82.333333          Passed             Passed   \n",
              "\n",
              "  Writing_PassStatus OverAll_PassStatus  \n",
              "0             Passed             Passed  \n",
              "1             Passed             Passed  "
            ]
          },
          "metadata": {
            "tags": []
          },
          "execution_count": 51
        }
      ]
    },
    {
      "metadata": {
        "colab_type": "code",
        "id": "G-1JYuK0HiGJ",
        "outputId": "ef0dd1be-e92e-41ac-cccb-336adf9ae04d",
        "colab": {}
      },
      "cell_type": "code",
      "source": [
        "#  Find the Percentage of Marks per Student\n",
        "\n",
        "df[\"Percentage\"]=df[\"Total_Marks\"]*1/3\n",
        "df.head(2)"
      ],
      "execution_count": 0,
      "outputs": [
        {
          "output_type": "execute_result",
          "data": {
            "text/html": [
              "<div>\n",
              "<style scoped>\n",
              "    .dataframe tbody tr th:only-of-type {\n",
              "        vertical-align: middle;\n",
              "    }\n",
              "\n",
              "    .dataframe tbody tr th {\n",
              "        vertical-align: top;\n",
              "    }\n",
              "\n",
              "    .dataframe thead th {\n",
              "        text-align: right;\n",
              "    }\n",
              "</style>\n",
              "<table border=\"1\" class=\"dataframe\">\n",
              "  <thead>\n",
              "    <tr style=\"text-align: right;\">\n",
              "      <th></th>\n",
              "      <th>gender</th>\n",
              "      <th>race/ethnicity</th>\n",
              "      <th>parental level of education</th>\n",
              "      <th>lunch</th>\n",
              "      <th>test preparation course</th>\n",
              "      <th>math score</th>\n",
              "      <th>reading score</th>\n",
              "      <th>writing score</th>\n",
              "      <th>Total_Marks</th>\n",
              "      <th>Percentage</th>\n",
              "      <th>Math_PassStatus</th>\n",
              "      <th>Reading_PassStatus</th>\n",
              "      <th>Writing_PassStatus</th>\n",
              "      <th>OverAll_PassStatus</th>\n",
              "    </tr>\n",
              "  </thead>\n",
              "  <tbody>\n",
              "    <tr>\n",
              "      <th>0</th>\n",
              "      <td>female</td>\n",
              "      <td>group B</td>\n",
              "      <td>bachelor's degree</td>\n",
              "      <td>standard</td>\n",
              "      <td>none</td>\n",
              "      <td>72</td>\n",
              "      <td>72</td>\n",
              "      <td>74</td>\n",
              "      <td>218</td>\n",
              "      <td>72.666667</td>\n",
              "      <td>Passed</td>\n",
              "      <td>Passed</td>\n",
              "      <td>Passed</td>\n",
              "      <td>Passed</td>\n",
              "    </tr>\n",
              "    <tr>\n",
              "      <th>1</th>\n",
              "      <td>female</td>\n",
              "      <td>group C</td>\n",
              "      <td>some college</td>\n",
              "      <td>standard</td>\n",
              "      <td>completed</td>\n",
              "      <td>69</td>\n",
              "      <td>90</td>\n",
              "      <td>88</td>\n",
              "      <td>247</td>\n",
              "      <td>82.333333</td>\n",
              "      <td>Passed</td>\n",
              "      <td>Passed</td>\n",
              "      <td>Passed</td>\n",
              "      <td>Passed</td>\n",
              "    </tr>\n",
              "  </tbody>\n",
              "</table>\n",
              "</div>"
            ],
            "text/plain": [
              "   gender race/ethnicity parental level of education     lunch  \\\n",
              "0  female        group B           bachelor's degree  standard   \n",
              "1  female        group C                some college  standard   \n",
              "\n",
              "  test preparation course  math score  reading score  writing score  \\\n",
              "0                    none          72             72             74   \n",
              "1               completed          69             90             88   \n",
              "\n",
              "   Total_Marks  Percentage Math_PassStatus Reading_PassStatus  \\\n",
              "0          218   72.666667          Passed             Passed   \n",
              "1          247   82.333333          Passed             Passed   \n",
              "\n",
              "  Writing_PassStatus OverAll_PassStatus  \n",
              "0             Passed             Passed  \n",
              "1             Passed             Passed  "
            ]
          },
          "metadata": {
            "tags": []
          },
          "execution_count": 53
        }
      ]
    },
    {
      "metadata": {
        "colab_type": "code",
        "id": "QuTrbUvRHiGS",
        "outputId": "5e834c84-d2b8-481b-ae0e-14952a804f2f",
        "colab": {}
      },
      "cell_type": "code",
      "source": [
        "# Top 10  Best Performed Students Overall\n",
        "\n",
        "top_10 =df.sort_values([\"Percentage\"], ascending=[False])[:10]\n",
        "top_10"
      ],
      "execution_count": 0,
      "outputs": [
        {
          "output_type": "execute_result",
          "data": {
            "text/html": [
              "<div>\n",
              "<style scoped>\n",
              "    .dataframe tbody tr th:only-of-type {\n",
              "        vertical-align: middle;\n",
              "    }\n",
              "\n",
              "    .dataframe tbody tr th {\n",
              "        vertical-align: top;\n",
              "    }\n",
              "\n",
              "    .dataframe thead th {\n",
              "        text-align: right;\n",
              "    }\n",
              "</style>\n",
              "<table border=\"1\" class=\"dataframe\">\n",
              "  <thead>\n",
              "    <tr style=\"text-align: right;\">\n",
              "      <th></th>\n",
              "      <th>gender</th>\n",
              "      <th>race/ethnicity</th>\n",
              "      <th>parental level of education</th>\n",
              "      <th>lunch</th>\n",
              "      <th>test preparation course</th>\n",
              "      <th>math score</th>\n",
              "      <th>reading score</th>\n",
              "      <th>writing score</th>\n",
              "      <th>Total_Marks</th>\n",
              "      <th>Percentage</th>\n",
              "      <th>Math_PassStatus</th>\n",
              "      <th>Reading_PassStatus</th>\n",
              "      <th>Writing_PassStatus</th>\n",
              "      <th>OverAll_PassStatus</th>\n",
              "      <th>Grade</th>\n",
              "    </tr>\n",
              "  </thead>\n",
              "  <tbody>\n",
              "    <tr>\n",
              "      <th>916</th>\n",
              "      <td>male</td>\n",
              "      <td>group E</td>\n",
              "      <td>bachelor's degree</td>\n",
              "      <td>standard</td>\n",
              "      <td>completed</td>\n",
              "      <td>100</td>\n",
              "      <td>100</td>\n",
              "      <td>100</td>\n",
              "      <td>300</td>\n",
              "      <td>100.000000</td>\n",
              "      <td>Passed</td>\n",
              "      <td>Passed</td>\n",
              "      <td>Passed</td>\n",
              "      <td>Passed</td>\n",
              "      <td>Grade A:</td>\n",
              "    </tr>\n",
              "    <tr>\n",
              "      <th>458</th>\n",
              "      <td>female</td>\n",
              "      <td>group E</td>\n",
              "      <td>bachelor's degree</td>\n",
              "      <td>standard</td>\n",
              "      <td>none</td>\n",
              "      <td>100</td>\n",
              "      <td>100</td>\n",
              "      <td>100</td>\n",
              "      <td>300</td>\n",
              "      <td>100.000000</td>\n",
              "      <td>Passed</td>\n",
              "      <td>Passed</td>\n",
              "      <td>Passed</td>\n",
              "      <td>Passed</td>\n",
              "      <td>Grade A:</td>\n",
              "    </tr>\n",
              "    <tr>\n",
              "      <th>962</th>\n",
              "      <td>female</td>\n",
              "      <td>group E</td>\n",
              "      <td>associate's degree</td>\n",
              "      <td>standard</td>\n",
              "      <td>none</td>\n",
              "      <td>100</td>\n",
              "      <td>100</td>\n",
              "      <td>100</td>\n",
              "      <td>300</td>\n",
              "      <td>100.000000</td>\n",
              "      <td>Passed</td>\n",
              "      <td>Passed</td>\n",
              "      <td>Passed</td>\n",
              "      <td>Passed</td>\n",
              "      <td>Grade A:</td>\n",
              "    </tr>\n",
              "    <tr>\n",
              "      <th>114</th>\n",
              "      <td>female</td>\n",
              "      <td>group E</td>\n",
              "      <td>bachelor's degree</td>\n",
              "      <td>standard</td>\n",
              "      <td>completed</td>\n",
              "      <td>99</td>\n",
              "      <td>100</td>\n",
              "      <td>100</td>\n",
              "      <td>299</td>\n",
              "      <td>99.666667</td>\n",
              "      <td>Passed</td>\n",
              "      <td>Passed</td>\n",
              "      <td>Passed</td>\n",
              "      <td>Passed</td>\n",
              "      <td>Grade A:</td>\n",
              "    </tr>\n",
              "    <tr>\n",
              "      <th>179</th>\n",
              "      <td>female</td>\n",
              "      <td>group D</td>\n",
              "      <td>some high school</td>\n",
              "      <td>standard</td>\n",
              "      <td>completed</td>\n",
              "      <td>97</td>\n",
              "      <td>100</td>\n",
              "      <td>100</td>\n",
              "      <td>297</td>\n",
              "      <td>99.000000</td>\n",
              "      <td>Passed</td>\n",
              "      <td>Passed</td>\n",
              "      <td>Passed</td>\n",
              "      <td>Passed</td>\n",
              "      <td>Grade A:</td>\n",
              "    </tr>\n",
              "    <tr>\n",
              "      <th>712</th>\n",
              "      <td>female</td>\n",
              "      <td>group D</td>\n",
              "      <td>some college</td>\n",
              "      <td>standard</td>\n",
              "      <td>none</td>\n",
              "      <td>98</td>\n",
              "      <td>100</td>\n",
              "      <td>99</td>\n",
              "      <td>297</td>\n",
              "      <td>99.000000</td>\n",
              "      <td>Passed</td>\n",
              "      <td>Passed</td>\n",
              "      <td>Passed</td>\n",
              "      <td>Passed</td>\n",
              "      <td>Grade A:</td>\n",
              "    </tr>\n",
              "    <tr>\n",
              "      <th>165</th>\n",
              "      <td>female</td>\n",
              "      <td>group C</td>\n",
              "      <td>bachelor's degree</td>\n",
              "      <td>standard</td>\n",
              "      <td>completed</td>\n",
              "      <td>96</td>\n",
              "      <td>100</td>\n",
              "      <td>100</td>\n",
              "      <td>296</td>\n",
              "      <td>98.666667</td>\n",
              "      <td>Passed</td>\n",
              "      <td>Passed</td>\n",
              "      <td>Passed</td>\n",
              "      <td>Passed</td>\n",
              "      <td>Grade A:</td>\n",
              "    </tr>\n",
              "    <tr>\n",
              "      <th>625</th>\n",
              "      <td>male</td>\n",
              "      <td>group D</td>\n",
              "      <td>some college</td>\n",
              "      <td>standard</td>\n",
              "      <td>completed</td>\n",
              "      <td>100</td>\n",
              "      <td>97</td>\n",
              "      <td>99</td>\n",
              "      <td>296</td>\n",
              "      <td>98.666667</td>\n",
              "      <td>Passed</td>\n",
              "      <td>Passed</td>\n",
              "      <td>Passed</td>\n",
              "      <td>Passed</td>\n",
              "      <td>Grade A:</td>\n",
              "    </tr>\n",
              "    <tr>\n",
              "      <th>903</th>\n",
              "      <td>female</td>\n",
              "      <td>group D</td>\n",
              "      <td>bachelor's degree</td>\n",
              "      <td>free/reduced</td>\n",
              "      <td>completed</td>\n",
              "      <td>93</td>\n",
              "      <td>100</td>\n",
              "      <td>100</td>\n",
              "      <td>293</td>\n",
              "      <td>97.666667</td>\n",
              "      <td>Passed</td>\n",
              "      <td>Passed</td>\n",
              "      <td>Passed</td>\n",
              "      <td>Passed</td>\n",
              "      <td>Grade A:</td>\n",
              "    </tr>\n",
              "    <tr>\n",
              "      <th>149</th>\n",
              "      <td>male</td>\n",
              "      <td>group E</td>\n",
              "      <td>associate's degree</td>\n",
              "      <td>free/reduced</td>\n",
              "      <td>completed</td>\n",
              "      <td>100</td>\n",
              "      <td>100</td>\n",
              "      <td>93</td>\n",
              "      <td>293</td>\n",
              "      <td>97.666667</td>\n",
              "      <td>Passed</td>\n",
              "      <td>Passed</td>\n",
              "      <td>Passed</td>\n",
              "      <td>Passed</td>\n",
              "      <td>Grade A:</td>\n",
              "    </tr>\n",
              "  </tbody>\n",
              "</table>\n",
              "</div>"
            ],
            "text/plain": [
              "     gender race/ethnicity parental level of education         lunch  \\\n",
              "916    male        group E           bachelor's degree      standard   \n",
              "458  female        group E           bachelor's degree      standard   \n",
              "962  female        group E          associate's degree      standard   \n",
              "114  female        group E           bachelor's degree      standard   \n",
              "179  female        group D            some high school      standard   \n",
              "712  female        group D                some college      standard   \n",
              "165  female        group C           bachelor's degree      standard   \n",
              "625    male        group D                some college      standard   \n",
              "903  female        group D           bachelor's degree  free/reduced   \n",
              "149    male        group E          associate's degree  free/reduced   \n",
              "\n",
              "    test preparation course  math score  reading score  writing score  \\\n",
              "916               completed         100            100            100   \n",
              "458                    none         100            100            100   \n",
              "962                    none         100            100            100   \n",
              "114               completed          99            100            100   \n",
              "179               completed          97            100            100   \n",
              "712                    none          98            100             99   \n",
              "165               completed          96            100            100   \n",
              "625               completed         100             97             99   \n",
              "903               completed          93            100            100   \n",
              "149               completed         100            100             93   \n",
              "\n",
              "     Total_Marks  Percentage Math_PassStatus Reading_PassStatus  \\\n",
              "916          300  100.000000          Passed             Passed   \n",
              "458          300  100.000000          Passed             Passed   \n",
              "962          300  100.000000          Passed             Passed   \n",
              "114          299   99.666667          Passed             Passed   \n",
              "179          297   99.000000          Passed             Passed   \n",
              "712          297   99.000000          Passed             Passed   \n",
              "165          296   98.666667          Passed             Passed   \n",
              "625          296   98.666667          Passed             Passed   \n",
              "903          293   97.666667          Passed             Passed   \n",
              "149          293   97.666667          Passed             Passed   \n",
              "\n",
              "    Writing_PassStatus OverAll_PassStatus     Grade  \n",
              "916             Passed             Passed  Grade A:  \n",
              "458             Passed             Passed  Grade A:  \n",
              "962             Passed             Passed  Grade A:  \n",
              "114             Passed             Passed  Grade A:  \n",
              "179             Passed             Passed  Grade A:  \n",
              "712             Passed             Passed  Grade A:  \n",
              "165             Passed             Passed  Grade A:  \n",
              "625             Passed             Passed  Grade A:  \n",
              "903             Passed             Passed  Grade A:  \n",
              "149             Passed             Passed  Grade A:  "
            ]
          },
          "metadata": {
            "tags": []
          },
          "execution_count": 166
        }
      ]
    },
    {
      "metadata": {
        "colab_type": "text",
        "id": "TBZyP46IHiGW"
      },
      "cell_type": "markdown",
      "source": [
        "Let us Assign the Grades\n",
        "\n",
        "Grading System\n",
        "\n",
        "Above 80 = Grade A\n",
        "\n",
        "70 to 80 = Grade B\n",
        "\n",
        "60 to 70 = Grade C\n",
        "\n",
        "50 to 60 = Grade D\n",
        "\n",
        "40 to 50 = Grade E\n",
        "\n",
        "Below 40 = Grade F ( Means Fail )\n"
      ]
    },
    {
      "metadata": {
        "colab_type": "code",
        "id": "834UBqIlHiGi",
        "outputId": "b5217034-04a8-4a81-99fb-7974b75ddda1",
        "colab": {}
      },
      "cell_type": "code",
      "source": [
        "def GetGrade(Percentage, OverAll_PassStatus):\n",
        "    if ( OverAll_PassStatus == 'Failed'):\n",
        "        return 'Failed'    \n",
        "    if ( Percentage >= 80 ):\n",
        "        return 'Grade A:'\n",
        "    if ( Percentage >= 70):\n",
        "        return 'Grade B:'\n",
        "    if ( Percentage >= 60):\n",
        "        return 'Grade C:'\n",
        "    if ( Percentage >= 50):\n",
        "        return 'Grade D:'\n",
        "    if ( Percentage >= 40):\n",
        "        return 'Grade E:'\n",
        "    else: \n",
        "        return 'Failed'\n",
        "\n",
        "df['Grade'] = df.apply(lambda x : GetGrade(x['Percentage'], x['OverAll_PassStatus']), axis=1)\n",
        "\n",
        "df.Grade.value_counts()"
      ],
      "execution_count": 0,
      "outputs": [
        {
          "output_type": "execute_result",
          "data": {
            "text/plain": [
              "Grade B:    261\n",
              "Grade C:    256\n",
              "Grade A:    198\n",
              "Grade D:    182\n",
              "Grade E:     67\n",
              "Failed       36\n",
              "Name: Grade, dtype: int64"
            ]
          },
          "metadata": {
            "tags": []
          },
          "execution_count": 66
        }
      ]
    },
    {
      "metadata": {
        "colab_type": "code",
        "id": "taHV9jGJHiGo",
        "outputId": "3930ab9f-822c-4346-9b2b-3334e646068e",
        "colab": {}
      },
      "cell_type": "code",
      "source": [
        "## Lets show the grades obtained in an order\n",
        "sns.countplot(x=\"Grade\", data = df, order=['Grade A:','Grade B:','Grade C:','Grade D:','Grade E:','Failed'],  palette=\"muted\")\n",
        "plt.show()"
      ],
      "execution_count": 0,
      "outputs": [
        {
          "output_type": "display_data",
          "data": {
            "image/png": "[encoded data removed]",
            "text/plain": [
              "<Figure size 432x288 with 1 Axes>"
            ]
          },
          "metadata": {
            "tags": [],
            "needs_background": "light"
          }
        }
      ]
    },
    {
      "metadata": {
        "colab_type": "code",
        "id": "lPuNdc5fHiGw",
        "outputId": "cd50c708-8bd6-4111-e74b-1ec1d381aea9",
        "colab": {}
      },
      "cell_type": "code",
      "source": [
        "#  Seaborn Countplot Visualization\n",
        "\n",
        "p = sns.countplot(x='parental level of education', data = df, hue='Grade', palette='bright')\n",
        "_ = plt.setp(p.get_xticklabels(), rotation=90) "
      ],
      "execution_count": 0,
      "outputs": [
        {
          "output_type": "display_data",
          "data": {
            "image/png": "[encoded data removed]",
            "text/plain": [
              "<Figure size 432x288 with 1 Axes>"
            ]
          },
          "metadata": {
            "tags": [],
            "needs_background": "light"
          }
        }
      ]
    },
    {
      "metadata": {
        "colab_type": "text",
        "id": "FmU0HifGHiG1"
      },
      "cell_type": "markdown",
      "source": [
        "### Univariate, Bivariate and Multivariate Analysis"
      ]
    },
    {
      "metadata": {
        "colab_type": "text",
        "id": "mz_Dvq5FHiG2"
      },
      "cell_type": "markdown",
      "source": [
        "###  Univariate Analysis"
      ]
    },
    {
      "metadata": {
        "colab_type": "text",
        "id": "ii_Kd6RAHiG5"
      },
      "cell_type": "markdown",
      "source": [
        "### One Way Frequency Tables // Cross Tabs"
      ]
    },
    {
      "metadata": {
        "colab_type": "code",
        "id": "DjDFArf6HiG6",
        "outputId": "e4d09878-5689-4466-80f5-5b8de0dcbd44",
        "colab": {}
      },
      "cell_type": "code",
      "source": [
        "# One Way Frequency Tables // Cross Tabs\n",
        "\n",
        "my_tab = pd.crosstab(index=df[\"parental level of education\"],  # Make a crosstab\n",
        "                              columns=\"Count_Total\")      # Name the count column\n",
        "\n",
        "my_tab"
      ],
      "execution_count": 0,
      "outputs": [
        {
          "output_type": "execute_result",
          "data": {
            "text/html": [
              "<div>\n",
              "<style scoped>\n",
              "    .dataframe tbody tr th:only-of-type {\n",
              "        vertical-align: middle;\n",
              "    }\n",
              "\n",
              "    .dataframe tbody tr th {\n",
              "        vertical-align: top;\n",
              "    }\n",
              "\n",
              "    .dataframe thead th {\n",
              "        text-align: right;\n",
              "    }\n",
              "</style>\n",
              "<table border=\"1\" class=\"dataframe\">\n",
              "  <thead>\n",
              "    <tr style=\"text-align: right;\">\n",
              "      <th>col_0</th>\n",
              "      <th>Count_Total</th>\n",
              "    </tr>\n",
              "    <tr>\n",
              "      <th>parental level of education</th>\n",
              "      <th></th>\n",
              "    </tr>\n",
              "  </thead>\n",
              "  <tbody>\n",
              "    <tr>\n",
              "      <th>associate's degree</th>\n",
              "      <td>222</td>\n",
              "    </tr>\n",
              "    <tr>\n",
              "      <th>bachelor's degree</th>\n",
              "      <td>118</td>\n",
              "    </tr>\n",
              "    <tr>\n",
              "      <th>high school</th>\n",
              "      <td>196</td>\n",
              "    </tr>\n",
              "    <tr>\n",
              "      <th>master's degree</th>\n",
              "      <td>59</td>\n",
              "    </tr>\n",
              "    <tr>\n",
              "      <th>some college</th>\n",
              "      <td>226</td>\n",
              "    </tr>\n",
              "    <tr>\n",
              "      <th>some high school</th>\n",
              "      <td>179</td>\n",
              "    </tr>\n",
              "  </tbody>\n",
              "</table>\n",
              "</div>"
            ],
            "text/plain": [
              "col_0                        Count_Total\n",
              "parental level of education             \n",
              "associate's degree                   222\n",
              "bachelor's degree                    118\n",
              "high school                          196\n",
              "master's degree                       59\n",
              "some college                         226\n",
              "some high school                     179"
            ]
          },
          "metadata": {
            "tags": []
          },
          "execution_count": 123
        }
      ]
    },
    {
      "metadata": {
        "colab_type": "code",
        "id": "bCdn4R82HiHG",
        "outputId": "13829f29-13ff-45a3-c983-37f9ed04833c",
        "colab": {}
      },
      "cell_type": "code",
      "source": [
        "# Gender Crosstab \n",
        "\n",
        "pd.crosstab(index=df[\"gender\"],  # Make a crosstab\n",
        "                      columns=\"Count_Total\")      # Name the count column"
      ],
      "execution_count": 0,
      "outputs": [
        {
          "output_type": "execute_result",
          "data": {
            "text/html": [
              "<div>\n",
              "<style scoped>\n",
              "    .dataframe tbody tr th:only-of-type {\n",
              "        vertical-align: middle;\n",
              "    }\n",
              "\n",
              "    .dataframe tbody tr th {\n",
              "        vertical-align: top;\n",
              "    }\n",
              "\n",
              "    .dataframe thead th {\n",
              "        text-align: right;\n",
              "    }\n",
              "</style>\n",
              "<table border=\"1\" class=\"dataframe\">\n",
              "  <thead>\n",
              "    <tr style=\"text-align: right;\">\n",
              "      <th>col_0</th>\n",
              "      <th>Count_Total</th>\n",
              "    </tr>\n",
              "    <tr>\n",
              "      <th>gender</th>\n",
              "      <th></th>\n",
              "    </tr>\n",
              "  </thead>\n",
              "  <tbody>\n",
              "    <tr>\n",
              "      <th>female</th>\n",
              "      <td>518</td>\n",
              "    </tr>\n",
              "    <tr>\n",
              "      <th>male</th>\n",
              "      <td>482</td>\n",
              "    </tr>\n",
              "  </tbody>\n",
              "</table>\n",
              "</div>"
            ],
            "text/plain": [
              "col_0   Count_Total\n",
              "gender             \n",
              "female          518\n",
              "male            482"
            ]
          },
          "metadata": {
            "tags": []
          },
          "execution_count": 124
        }
      ]
    },
    {
      "metadata": {
        "id": "bUFqIKP79Hj3",
        "colab_type": "code",
        "colab": {}
      },
      "cell_type": "code",
      "source": [
        ""
      ],
      "execution_count": 0,
      "outputs": []
    },
    {
      "metadata": {
        "colab_type": "code",
        "id": "V7Wtq4U-HiHO",
        "outputId": "a085cc1c-f5b0-4c0f-a9e3-b9764c48e2f3",
        "colab": {}
      },
      "cell_type": "code",
      "source": [
        "# Cross table of Gender vs Parental Level of Education\n",
        "\n",
        "tab1= pd.crosstab(index=df[\"gender\"], \n",
        "                           columns=df[\"parental level of education\"])\n",
        "\n",
        "tab1.index= [\"Female\",\"Male\"]\n",
        "\n",
        "tab1.head(2)"
      ],
      "execution_count": 0,
      "outputs": [
        {
          "output_type": "execute_result",
          "data": {
            "text/html": [
              "<div>\n",
              "<style scoped>\n",
              "    .dataframe tbody tr th:only-of-type {\n",
              "        vertical-align: middle;\n",
              "    }\n",
              "\n",
              "    .dataframe tbody tr th {\n",
              "        vertical-align: top;\n",
              "    }\n",
              "\n",
              "    .dataframe thead th {\n",
              "        text-align: right;\n",
              "    }\n",
              "</style>\n",
              "<table border=\"1\" class=\"dataframe\">\n",
              "  <thead>\n",
              "    <tr style=\"text-align: right;\">\n",
              "      <th>parental level of education</th>\n",
              "      <th>associate's degree</th>\n",
              "      <th>bachelor's degree</th>\n",
              "      <th>high school</th>\n",
              "      <th>master's degree</th>\n",
              "      <th>some college</th>\n",
              "      <th>some high school</th>\n",
              "    </tr>\n",
              "  </thead>\n",
              "  <tbody>\n",
              "    <tr>\n",
              "      <th>Female</th>\n",
              "      <td>116</td>\n",
              "      <td>63</td>\n",
              "      <td>94</td>\n",
              "      <td>36</td>\n",
              "      <td>118</td>\n",
              "      <td>91</td>\n",
              "    </tr>\n",
              "    <tr>\n",
              "      <th>Male</th>\n",
              "      <td>106</td>\n",
              "      <td>55</td>\n",
              "      <td>102</td>\n",
              "      <td>23</td>\n",
              "      <td>108</td>\n",
              "      <td>88</td>\n",
              "    </tr>\n",
              "  </tbody>\n",
              "</table>\n",
              "</div>"
            ],
            "text/plain": [
              "parental level of education  associate's degree  bachelor's degree  \\\n",
              "Female                                      116                 63   \n",
              "Male                                        106                 55   \n",
              "\n",
              "parental level of education  high school  master's degree  some college  \\\n",
              "Female                                94               36           118   \n",
              "Male                                 102               23           108   \n",
              "\n",
              "parental level of education  some high school  \n",
              "Female                                     91  \n",
              "Male                                       88  "
            ]
          },
          "metadata": {
            "tags": []
          },
          "execution_count": 127
        }
      ]
    },
    {
      "metadata": {
        "colab_type": "code",
        "id": "Z2PX3UarHiHT",
        "outputId": "2cfa9cea-7fc6-4078-ea74-4ecded94c7b1",
        "colab": {}
      },
      "cell_type": "code",
      "source": [
        "# Box plot showing the Gender distribution\n",
        "\n",
        "df['gender'].value_counts().head(10).plot.bar()"
      ],
      "execution_count": 0,
      "outputs": [
        {
          "output_type": "execute_result",
          "data": {
            "text/plain": [
              "<matplotlib.axes._subplots.AxesSubplot at 0x24c479f9a20>"
            ]
          },
          "metadata": {
            "tags": []
          },
          "execution_count": 25
        },
        {
          "output_type": "display_data",
          "data": {
            "image/png": "[encoded data removed]",
            "text/plain": [
              "<Figure size 432x288 with 1 Axes>"
            ]
          },
          "metadata": {
            "tags": [],
            "needs_background": "light"
          }
        }
      ]
    },
    {
      "metadata": {
        "colab_type": "text",
        "id": "sKHFsX-nHiHY"
      },
      "cell_type": "markdown",
      "source": [
        "You can also use  Seaborn Countplots for Univariate Analysis of the variables"
      ]
    },
    {
      "metadata": {
        "colab_type": "code",
        "id": "MSM_p0zLHiHZ",
        "outputId": "6556c568-9633-47d1-db41-410f73c0bdb2",
        "colab": {}
      },
      "cell_type": "code",
      "source": [
        "# Box plot showing the Grades Distribution\n",
        "\n",
        "df['Grade'].value_counts().head(10).plot.bar()"
      ],
      "execution_count": 0,
      "outputs": [
        {
          "output_type": "execute_result",
          "data": {
            "text/plain": [
              "<matplotlib.axes._subplots.AxesSubplot at 0x22a751cfdd8>"
            ]
          },
          "metadata": {
            "tags": []
          },
          "execution_count": 79
        },
        {
          "output_type": "display_data",
          "data": {
            "image/png": "[encoded data removed]",
            "text/plain": [
              "<Figure size 432x288 with 1 Axes>"
            ]
          },
          "metadata": {
            "tags": [],
            "needs_background": "light"
          }
        }
      ]
    },
    {
      "metadata": {
        "colab_type": "text",
        "id": "QmJLAc66HiHe"
      },
      "cell_type": "markdown",
      "source": [
        "## Bivariate  Analysis"
      ]
    },
    {
      "metadata": {
        "colab_type": "code",
        "id": "sB_zj71jHiHg",
        "colab": {}
      },
      "cell_type": "code",
      "source": [
        "# Categorical Variable vs Numerical Continuous Variable\n",
        "\n",
        "# Box plot Visualization\n",
        "# Comparing the top 10 students performance  against the Gender column\n",
        "\n",
        "sns.boxplot(x='gender',y='Percentage',data=df, palette='rainbow')"
      ],
      "execution_count": 0,
      "outputs": []
    },
    {
      "metadata": {
        "colab_type": "code",
        "id": "h7C4WU9THiHm",
        "outputId": "e4dbe92f-cde5-4341-dd47-387d6b966d30",
        "colab": {}
      },
      "cell_type": "code",
      "source": [
        "# Continous Numerical Variable  vs Continuous Numerical Variable\\\n",
        "# Scatter Plot Visualization\n",
        "# Comparing the Overall students performance against the Mathematics Score\n",
        "\n",
        "\n",
        "df.plot(kind=\"scatter\",x=\"Total_Marks\",  y=\"math score\")"
      ],
      "execution_count": 0,
      "outputs": [
        {
          "output_type": "execute_result",
          "data": {
            "text/plain": [
              "<matplotlib.axes._subplots.AxesSubplot at 0x22a7388ca58>"
            ]
          },
          "metadata": {
            "tags": []
          },
          "execution_count": 90
        },
        {
          "output_type": "display_data",
          "data": {
            "image/png": "[encoded data removed]",
            "text/plain": [
              "<Figure size 432x288 with 1 Axes>"
            ]
          },
          "metadata": {
            "tags": [],
            "needs_background": "light"
          }
        }
      ]
    },
    {
      "metadata": {
        "colab_type": "code",
        "id": "__gG0PFOHiHp",
        "colab": {}
      },
      "cell_type": "code",
      "source": [
        "# Categorical Variable vs Categorical Variable Vs Numerical Continuous Variable\n",
        "\n",
        "sns.boxplot(x=\"gender\",y=\"Percentage\",hue=\"parental level of education\",data=df, palette=\"coolwarm\")"
      ],
      "execution_count": 0,
      "outputs": []
    },
    {
      "metadata": {
        "colab_type": "code",
        "id": "L9tVwyJCHiHs",
        "outputId": "878e382f-f8c7-42fb-d20a-f04d189a5982",
        "colab": {}
      },
      "cell_type": "code",
      "source": [
        "sns.countplot(x='gender', hue=\"Percentage\", data=top_10)"
      ],
      "execution_count": 0,
      "outputs": [
        {
          "output_type": "execute_result",
          "data": {
            "text/plain": [
              "<matplotlib.axes._subplots.AxesSubplot at 0x24c47a4c240>"
            ]
          },
          "metadata": {
            "tags": []
          },
          "execution_count": 29
        },
        {
          "output_type": "display_data",
          "data": {
            "image/png": "[encoded data removed]",
            "text/plain": [
              "<Figure size 432x288 with 1 Axes>"
            ]
          },
          "metadata": {
            "tags": [],
            "needs_background": "light"
          }
        }
      ]
    },
    {
      "metadata": {
        "colab_type": "code",
        "id": "xF0bu1O4HiHv",
        "outputId": "a52b8d16-1cbc-43c7-f7f3-5df87b84c912",
        "colab": {}
      },
      "cell_type": "code",
      "source": [
        "# Comparing the Overall Students Performance against their Gender\n",
        "# Countplot Visualization\n",
        "\n",
        "\n",
        "p = sns.countplot(x='Grade', data = df, hue='gender', palette='bright')\n",
        "_ = plt.setp(p.get_xticklabels(), rotation=90) "
      ],
      "execution_count": 0,
      "outputs": [
        {
          "output_type": "display_data",
          "data": {
            "image/png": "[encoded data removed]",
            "text/plain": [
              "<Figure size 432x288 with 1 Axes>"
            ]
          },
          "metadata": {
            "tags": [],
            "needs_background": "light"
          }
        }
      ]
    },
    {
      "metadata": {
        "colab_type": "text",
        "id": "lBBJUmhtHiHy"
      },
      "cell_type": "markdown",
      "source": [
        "Female students performed better Compared to the male counterparts\n",
        "\n",
        "Males registered a larger number of students who scored Grade D and below with the larger share of failed students."
      ]
    },
    {
      "metadata": {
        "colab_type": "code",
        "id": "5C7Y-vTyHiH0",
        "outputId": "a439bdeb-540b-46b5-9889-7ce10dd12f99",
        "colab": {}
      },
      "cell_type": "code",
      "source": [
        "# Comparing ALL the Students Performance against their Race/ Ethnicity\n",
        "# Countplot Visualization\n",
        "\n",
        "\n",
        "p = sns.countplot(x='race/ethnicity', data = df, hue='Grade', palette='bright')\n",
        "_ = plt.setp(p.get_xticklabels(), rotation=90) "
      ],
      "execution_count": 0,
      "outputs": [
        {
          "output_type": "display_data",
          "data": {
            "image/png": "[encoded data removed]",
            "text/plain": [
              "<Figure size 432x288 with 1 Axes>"
            ]
          },
          "metadata": {
            "tags": [],
            "needs_background": "light"
          }
        }
      ]
    },
    {
      "metadata": {
        "colab_type": "code",
        "id": "THYTXWdYHiH3",
        "outputId": "5bfa042b-e946-4970-91f7-857ce0718c27",
        "colab": {}
      },
      "cell_type": "code",
      "source": [
        "# Comparing ALL the Students Performance against their Race/ Ethnicity\n",
        "# Countplot Visualization\n",
        "\n",
        "\n",
        "p = sns.countplot(x='Grade', data = df, hue='race/ethnicity', palette='bright')\n",
        "_ = plt.setp(p.get_xticklabels(), rotation=90)"
      ],
      "execution_count": 0,
      "outputs": [
        {
          "output_type": "display_data",
          "data": {
            "image/png": "[encoded data removed]",
            "text/plain": [
              "<Figure size 432x288 with 1 Axes>"
            ]
          },
          "metadata": {
            "tags": [],
            "needs_background": "light"
          }
        }
      ]
    },
    {
      "metadata": {
        "colab_type": "text",
        "id": "3ZgBfBiFHiH8"
      },
      "cell_type": "markdown",
      "source": [
        "race/ethnicity Groups C and D performed well while race/ethnicity B,A and E Performed poorly"
      ]
    },
    {
      "metadata": {
        "colab_type": "code",
        "id": "0hDk9UHoHiH9",
        "outputId": "2c0f6b3c-46e1-4469-bad1-3b864c8853f3",
        "colab": {}
      },
      "cell_type": "code",
      "source": [
        "# Comparing the Top 10  Students Performance against their Gender\n",
        "# Countplot Visualization\n",
        "\n",
        "p = sns.countplot(x='gender', data = top_10, hue='Percentage', palette='bright')\n",
        "_ = plt.setp(p.get_xticklabels(), rotation=90) "
      ],
      "execution_count": 0,
      "outputs": [
        {
          "output_type": "display_data",
          "data": {
            "image/png": "[encoded data removed]",
            "text/plain": [
              "<Figure size 432x288 with 1 Axes>"
            ]
          },
          "metadata": {
            "tags": [],
            "needs_background": "light"
          }
        }
      ]
    },
    {
      "metadata": {
        "colab_type": "code",
        "id": "5Wj1lc80HiIB",
        "outputId": "241f5d48-73dd-43c2-f164-9efc10950382",
        "colab": {}
      },
      "cell_type": "code",
      "source": [
        "# Comparing the Top 10  Students Performance against their Gender\n",
        "# Countplot Visualization\n",
        "\n",
        "p = sns.countplot(x='Percentage', data = top_10, hue='gender', palette='bright')\n",
        "_ = plt.setp(p.get_xticklabels(), rotation=90) "
      ],
      "execution_count": 0,
      "outputs": [
        {
          "output_type": "display_data",
          "data": {
            "image/png": "[encoded data removed]",
            "text/plain": [
              "<Figure size 432x288 with 1 Axes>"
            ]
          },
          "metadata": {
            "tags": [],
            "needs_background": "light"
          }
        }
      ]
    },
    {
      "metadata": {
        "colab_type": "text",
        "id": "MT379B4UHiIH"
      },
      "cell_type": "markdown",
      "source": [
        "Female students featured greatly in the top 10 list"
      ]
    },
    {
      "metadata": {
        "colab_type": "text",
        "id": "G3nbhg2VHiII"
      },
      "cell_type": "markdown",
      "source": [
        "### Effectiveness of test preparation course?"
      ]
    },
    {
      "metadata": {
        "colab_type": "code",
        "id": "Ty1Mt04uHiII",
        "outputId": "fb133fb2-8c19-473b-ae47-5f12cf0dd1fa",
        "colab": {}
      },
      "cell_type": "code",
      "source": [
        "# Comparing the Top 10  Students Performance against the Test Preparation Course Column\n",
        "\n",
        "# Countplot Visualization\n",
        "\n",
        "\n",
        "p = sns.countplot(x='test preparation course', data =top_10, hue='Percentage', palette='bright')\n",
        "_ = plt.setp(p.get_xticklabels(), rotation=90) "
      ],
      "execution_count": 0,
      "outputs": [
        {
          "output_type": "display_data",
          "data": {
            "image/png": "[encoded data removed]",
            "text/plain": [
              "<Figure size 432x288 with 1 Axes>"
            ]
          },
          "metadata": {
            "tags": [],
            "needs_background": "light"
          }
        }
      ]
    },
    {
      "metadata": {
        "colab_type": "text",
        "id": "8qZkrjeXHiIQ"
      },
      "cell_type": "markdown",
      "source": [
        "Majority of the students in the top 10 list had succesfully completed the Test Preparation Course"
      ]
    },
    {
      "metadata": {
        "colab_type": "code",
        "id": "US_pZMQcHiIR",
        "outputId": "523a85e6-d018-4886-e3c4-a6affe82e606",
        "colab": {}
      },
      "cell_type": "code",
      "source": [
        "# Comparing All the Students Performance against the Test Preparation Course Column\n",
        "\n",
        "# Countplot Visualization\n",
        "\n",
        "\n",
        "p = sns.countplot(x='test preparation course', data =df, hue='Grade', palette='bright')\n",
        "_ = plt.setp(p.get_xticklabels(), rotation=90) "
      ],
      "execution_count": 0,
      "outputs": [
        {
          "output_type": "display_data",
          "data": {
            "image/png": "[encoded data removed]",
            "text/plain": [
              "<Figure size 432x288 with 1 Axes>"
            ]
          },
          "metadata": {
            "tags": [],
            "needs_background": "light"
          }
        }
      ]
    },
    {
      "metadata": {
        "colab_type": "text",
        "id": "fWw2-ZVwHiIV"
      },
      "cell_type": "markdown",
      "source": [
        "A good number of students who did not sit for the Test Preparation Course failed"
      ]
    },
    {
      "metadata": {
        "colab_type": "text",
        "id": "ZKaKcCiwHiIV"
      },
      "cell_type": "markdown",
      "source": [
        " ## The Lunch Factor"
      ]
    },
    {
      "metadata": {
        "colab_type": "code",
        "id": "ac4daj51HiIW",
        "outputId": "e0a8fa43-7a90-499c-989e-b7a0fa84f3ce",
        "colab": {}
      },
      "cell_type": "code",
      "source": [
        "# Comparing the Top 10  Students Performance against the Lunch Column\n",
        "\n",
        "# Countplot Visualization\n",
        "\n",
        "\n",
        "p = sns.countplot(x='lunch', data =top_10, hue='Percentage', palette='bright')\n",
        "_ = plt.setp(p.get_xticklabels(), rotation=90) "
      ],
      "execution_count": 0,
      "outputs": [
        {
          "output_type": "display_data",
          "data": {
            "image/png": "[encoded data removed]",
            "text/plain": [
              "<Figure size 432x288 with 1 Axes>"
            ]
          },
          "metadata": {
            "tags": [],
            "needs_background": "light"
          }
        }
      ]
    },
    {
      "metadata": {
        "colab_type": "text",
        "id": "rNOzMq2THiIZ"
      },
      "cell_type": "markdown",
      "source": [
        "All the students in the top 10 list took standard lunch."
      ]
    },
    {
      "metadata": {
        "colab_type": "text",
        "id": "YlVczuTMHiId"
      },
      "cell_type": "markdown",
      "source": [
        "### Two Way Contigency Frequency Tables"
      ]
    },
    {
      "metadata": {
        "colab_type": "code",
        "id": "9EPYqCXpHiIe",
        "outputId": "2ad06af6-c16a-407e-b148-68b4a212570b",
        "colab": {}
      },
      "cell_type": "code",
      "source": [
        "# Cross Table of Gender vs Grades Scored by the students\n",
        "\n",
        "tab1= pd.crosstab(index=df[\"gender\"], \n",
        "                           columns=df[\"Grade\"])\n",
        "\n",
        "tab1.index= [\"Female\",\"Male\"]\n",
        "\n",
        "tab1.head()"
      ],
      "execution_count": 0,
      "outputs": [
        {
          "output_type": "execute_result",
          "data": {
            "text/html": [
              "<div>\n",
              "<style scoped>\n",
              "    .dataframe tbody tr th:only-of-type {\n",
              "        vertical-align: middle;\n",
              "    }\n",
              "\n",
              "    .dataframe tbody tr th {\n",
              "        vertical-align: top;\n",
              "    }\n",
              "\n",
              "    .dataframe thead th {\n",
              "        text-align: right;\n",
              "    }\n",
              "</style>\n",
              "<table border=\"1\" class=\"dataframe\">\n",
              "  <thead>\n",
              "    <tr style=\"text-align: right;\">\n",
              "      <th>Grade</th>\n",
              "      <th>Failed</th>\n",
              "      <th>Grade A:</th>\n",
              "      <th>Grade B:</th>\n",
              "      <th>Grade C:</th>\n",
              "      <th>Grade D:</th>\n",
              "      <th>Grade E:</th>\n",
              "    </tr>\n",
              "  </thead>\n",
              "  <tbody>\n",
              "    <tr>\n",
              "      <th>Female</th>\n",
              "      <td>17</td>\n",
              "      <td>118</td>\n",
              "      <td>150</td>\n",
              "      <td>126</td>\n",
              "      <td>85</td>\n",
              "      <td>22</td>\n",
              "    </tr>\n",
              "    <tr>\n",
              "      <th>Male</th>\n",
              "      <td>19</td>\n",
              "      <td>80</td>\n",
              "      <td>111</td>\n",
              "      <td>130</td>\n",
              "      <td>97</td>\n",
              "      <td>45</td>\n",
              "    </tr>\n",
              "  </tbody>\n",
              "</table>\n",
              "</div>"
            ],
            "text/plain": [
              "Grade   Failed  Grade A:  Grade B:  Grade C:  Grade D:  Grade E:\n",
              "Female      17       118       150       126        85        22\n",
              "Male        19        80       111       130        97        45"
            ]
          },
          "metadata": {
            "tags": []
          },
          "execution_count": 155
        }
      ]
    },
    {
      "metadata": {
        "colab_type": "code",
        "id": "Prr4K6e2HiIh",
        "outputId": "c91ab6a5-04ae-4435-ff34-fe38a8a28386",
        "colab": {}
      },
      "cell_type": "code",
      "source": [
        "# Cross table of Parental Level of Education vs Overall Grade scored by every student\n",
        "\n",
        "tab1= pd.crosstab(index=df[\"parental level of education\"], \n",
        "                           columns=df[\"Grade\"])\n",
        "\n",
        "tab1.index= [\"some high school\",\"associate's degree\",\"bachelor's degree\",\"high school\",\"master's degree\",\"some college\"]\n",
        "\n",
        "tab1.head(6)"
      ],
      "execution_count": 0,
      "outputs": [
        {
          "output_type": "execute_result",
          "data": {
            "text/html": [
              "<div>\n",
              "<style scoped>\n",
              "    .dataframe tbody tr th:only-of-type {\n",
              "        vertical-align: middle;\n",
              "    }\n",
              "\n",
              "    .dataframe tbody tr th {\n",
              "        vertical-align: top;\n",
              "    }\n",
              "\n",
              "    .dataframe thead th {\n",
              "        text-align: right;\n",
              "    }\n",
              "</style>\n",
              "<table border=\"1\" class=\"dataframe\">\n",
              "  <thead>\n",
              "    <tr style=\"text-align: right;\">\n",
              "      <th>Grade</th>\n",
              "      <th>Failed</th>\n",
              "      <th>Grade A:</th>\n",
              "      <th>Grade B:</th>\n",
              "      <th>Grade C:</th>\n",
              "      <th>Grade D:</th>\n",
              "      <th>Grade E:</th>\n",
              "    </tr>\n",
              "  </thead>\n",
              "  <tbody>\n",
              "    <tr>\n",
              "      <th>some high school</th>\n",
              "      <td>3</td>\n",
              "      <td>51</td>\n",
              "      <td>59</td>\n",
              "      <td>53</td>\n",
              "      <td>42</td>\n",
              "      <td>14</td>\n",
              "    </tr>\n",
              "    <tr>\n",
              "      <th>associate's degree</th>\n",
              "      <td>3</td>\n",
              "      <td>31</td>\n",
              "      <td>35</td>\n",
              "      <td>31</td>\n",
              "      <td>13</td>\n",
              "      <td>5</td>\n",
              "    </tr>\n",
              "    <tr>\n",
              "      <th>bachelor's degree</th>\n",
              "      <td>10</td>\n",
              "      <td>20</td>\n",
              "      <td>45</td>\n",
              "      <td>55</td>\n",
              "      <td>43</td>\n",
              "      <td>23</td>\n",
              "    </tr>\n",
              "    <tr>\n",
              "      <th>high school</th>\n",
              "      <td>0</td>\n",
              "      <td>20</td>\n",
              "      <td>16</td>\n",
              "      <td>13</td>\n",
              "      <td>9</td>\n",
              "      <td>1</td>\n",
              "    </tr>\n",
              "    <tr>\n",
              "      <th>master's degree</th>\n",
              "      <td>9</td>\n",
              "      <td>46</td>\n",
              "      <td>62</td>\n",
              "      <td>63</td>\n",
              "      <td>40</td>\n",
              "      <td>6</td>\n",
              "    </tr>\n",
              "    <tr>\n",
              "      <th>some college</th>\n",
              "      <td>11</td>\n",
              "      <td>30</td>\n",
              "      <td>44</td>\n",
              "      <td>41</td>\n",
              "      <td>35</td>\n",
              "      <td>18</td>\n",
              "    </tr>\n",
              "  </tbody>\n",
              "</table>\n",
              "</div>"
            ],
            "text/plain": [
              "Grade               Failed  Grade A:  Grade B:  Grade C:  Grade D:  Grade E:\n",
              "some high school         3        51        59        53        42        14\n",
              "associate's degree       3        31        35        31        13         5\n",
              "bachelor's degree       10        20        45        55        43        23\n",
              "high school              0        20        16        13         9         1\n",
              "master's degree          9        46        62        63        40         6\n",
              "some college            11        30        44        41        35        18"
            ]
          },
          "metadata": {
            "tags": []
          },
          "execution_count": 146
        }
      ]
    },
    {
      "metadata": {
        "colab_type": "code",
        "id": "_9X44-HoHiIl",
        "outputId": "e1da51e9-e724-4408-efd7-2ec6499b0251",
        "colab": {}
      },
      "cell_type": "code",
      "source": [
        "# Cross Table of Race/ Ethnicity vs Grades Scored by the students\n",
        "\n",
        "tab1= pd.crosstab(index=df[\"race/ethnicity\"], \n",
        "                           columns=df[\"Grade\"])\n",
        "\n",
        "tab1.index= [\"group B\",\"group A\",\"group C\",\"group D\",\"group E\"]\n",
        "\n",
        "tab1.head(5)"
      ],
      "execution_count": 0,
      "outputs": [
        {
          "output_type": "execute_result",
          "data": {
            "text/html": [
              "<div>\n",
              "<style scoped>\n",
              "    .dataframe tbody tr th:only-of-type {\n",
              "        vertical-align: middle;\n",
              "    }\n",
              "\n",
              "    .dataframe tbody tr th {\n",
              "        vertical-align: top;\n",
              "    }\n",
              "\n",
              "    .dataframe thead th {\n",
              "        text-align: right;\n",
              "    }\n",
              "</style>\n",
              "<table border=\"1\" class=\"dataframe\">\n",
              "  <thead>\n",
              "    <tr style=\"text-align: right;\">\n",
              "      <th>Grade</th>\n",
              "      <th>Failed</th>\n",
              "      <th>Grade A:</th>\n",
              "      <th>Grade B:</th>\n",
              "      <th>Grade C:</th>\n",
              "      <th>Grade D:</th>\n",
              "      <th>Grade E:</th>\n",
              "    </tr>\n",
              "  </thead>\n",
              "  <tbody>\n",
              "    <tr>\n",
              "      <th>group B</th>\n",
              "      <td>3</td>\n",
              "      <td>11</td>\n",
              "      <td>14</td>\n",
              "      <td>24</td>\n",
              "      <td>24</td>\n",
              "      <td>13</td>\n",
              "    </tr>\n",
              "    <tr>\n",
              "      <th>group A</th>\n",
              "      <td>10</td>\n",
              "      <td>35</td>\n",
              "      <td>38</td>\n",
              "      <td>58</td>\n",
              "      <td>32</td>\n",
              "      <td>17</td>\n",
              "    </tr>\n",
              "    <tr>\n",
              "      <th>group C</th>\n",
              "      <td>12</td>\n",
              "      <td>55</td>\n",
              "      <td>87</td>\n",
              "      <td>80</td>\n",
              "      <td>65</td>\n",
              "      <td>20</td>\n",
              "    </tr>\n",
              "    <tr>\n",
              "      <th>group D</th>\n",
              "      <td>8</td>\n",
              "      <td>53</td>\n",
              "      <td>79</td>\n",
              "      <td>65</td>\n",
              "      <td>46</td>\n",
              "      <td>11</td>\n",
              "    </tr>\n",
              "    <tr>\n",
              "      <th>group E</th>\n",
              "      <td>3</td>\n",
              "      <td>44</td>\n",
              "      <td>43</td>\n",
              "      <td>29</td>\n",
              "      <td>15</td>\n",
              "      <td>6</td>\n",
              "    </tr>\n",
              "  </tbody>\n",
              "</table>\n",
              "</div>"
            ],
            "text/plain": [
              "Grade    Failed  Grade A:  Grade B:  Grade C:  Grade D:  Grade E:\n",
              "group B       3        11        14        24        24        13\n",
              "group A      10        35        38        58        32        17\n",
              "group C      12        55        87        80        65        20\n",
              "group D       8        53        79        65        46        11\n",
              "group E       3        44        43        29        15         6"
            ]
          },
          "metadata": {
            "tags": []
          },
          "execution_count": 150
        }
      ]
    },
    {
      "metadata": {
        "colab_type": "code",
        "id": "6SSDVmtKHiIo",
        "outputId": "71e4939d-dfd0-4a7a-a393-a0bcd646771a",
        "colab": {}
      },
      "cell_type": "code",
      "source": [
        "# Cross Table of Lunch vs Grades Scored by the students\n",
        "\n",
        "tab1= pd.crosstab(index=df[\"lunch\"], \n",
        "                           columns=df[\"Grade\"])\n",
        "\n",
        "tab1.index= [\"standard\",\"free/reduced\"]\n",
        "\n",
        "tab1.head(2)"
      ],
      "execution_count": 0,
      "outputs": [
        {
          "output_type": "execute_result",
          "data": {
            "text/html": [
              "<div>\n",
              "<style scoped>\n",
              "    .dataframe tbody tr th:only-of-type {\n",
              "        vertical-align: middle;\n",
              "    }\n",
              "\n",
              "    .dataframe tbody tr th {\n",
              "        vertical-align: top;\n",
              "    }\n",
              "\n",
              "    .dataframe thead th {\n",
              "        text-align: right;\n",
              "    }\n",
              "</style>\n",
              "<table border=\"1\" class=\"dataframe\">\n",
              "  <thead>\n",
              "    <tr style=\"text-align: right;\">\n",
              "      <th>Grade</th>\n",
              "      <th>Failed</th>\n",
              "      <th>Grade A:</th>\n",
              "      <th>Grade B:</th>\n",
              "      <th>Grade C:</th>\n",
              "      <th>Grade D:</th>\n",
              "      <th>Grade E:</th>\n",
              "    </tr>\n",
              "  </thead>\n",
              "  <tbody>\n",
              "    <tr>\n",
              "      <th>standard</th>\n",
              "      <td>27</td>\n",
              "      <td>39</td>\n",
              "      <td>71</td>\n",
              "      <td>90</td>\n",
              "      <td>94</td>\n",
              "      <td>34</td>\n",
              "    </tr>\n",
              "    <tr>\n",
              "      <th>free/reduced</th>\n",
              "      <td>9</td>\n",
              "      <td>159</td>\n",
              "      <td>190</td>\n",
              "      <td>166</td>\n",
              "      <td>88</td>\n",
              "      <td>33</td>\n",
              "    </tr>\n",
              "  </tbody>\n",
              "</table>\n",
              "</div>"
            ],
            "text/plain": [
              "Grade         Failed  Grade A:  Grade B:  Grade C:  Grade D:  Grade E:\n",
              "standard          27        39        71        90        94        34\n",
              "free/reduced       9       159       190       166        88        33"
            ]
          },
          "metadata": {
            "tags": []
          },
          "execution_count": 154
        }
      ]
    }
  ]
}